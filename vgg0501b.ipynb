{
 "cells": [
  {
   "cell_type": "code",
   "execution_count": 126,
   "metadata": {},
   "outputs": [],
   "source": [
    "import keras\n",
    "from keras.models import Sequential\n",
    "from keras.layers import Dense, Activation, Dropout, Flatten\n",
    "from keras.layers import Conv2D\n",
    "from keras.layers import MaxPooling2D\n",
    "from keras.optimizers import SGD\n",
    "from keras.preprocessing.image import ImageDataGenerator\n",
    "import numpy as np"
   ]
  },
  {
   "cell_type": "code",
   "execution_count": 106,
   "metadata": {},
   "outputs": [
    {
     "name": "stdout",
     "output_type": "stream",
     "text": [
      "_________________________________________________________________\n",
      "Layer (type)                 Output Shape              Param #   \n",
      "=================================================================\n",
      "conv2d_109 (Conv2D)          (None, 48, 48, 64)        640       \n",
      "_________________________________________________________________\n",
      "conv2d_110 (Conv2D)          (None, 48, 48, 64)        36928     \n",
      "_________________________________________________________________\n",
      "max_pooling2d_43 (MaxPooling (None, 24, 24, 64)        0         \n",
      "_________________________________________________________________\n",
      "conv2d_111 (Conv2D)          (None, 24, 24, 128)       73856     \n",
      "_________________________________________________________________\n",
      "conv2d_112 (Conv2D)          (None, 24, 24, 128)       147584    \n",
      "_________________________________________________________________\n",
      "max_pooling2d_44 (MaxPooling (None, 12, 12, 128)       0         \n",
      "_________________________________________________________________\n",
      "conv2d_113 (Conv2D)          (None, 12, 12, 256)       295168    \n",
      "_________________________________________________________________\n",
      "conv2d_114 (Conv2D)          (None, 12, 12, 256)       590080    \n",
      "_________________________________________________________________\n",
      "conv2d_115 (Conv2D)          (None, 12, 12, 256)       590080    \n",
      "_________________________________________________________________\n",
      "max_pooling2d_45 (MaxPooling (None, 6, 6, 256)         0         \n",
      "_________________________________________________________________\n",
      "conv2d_116 (Conv2D)          (None, 6, 6, 512)         1180160   \n",
      "_________________________________________________________________\n",
      "conv2d_117 (Conv2D)          (None, 6, 6, 512)         2359808   \n",
      "_________________________________________________________________\n",
      "conv2d_118 (Conv2D)          (None, 6, 6, 512)         2359808   \n",
      "_________________________________________________________________\n",
      "max_pooling2d_46 (MaxPooling (None, 3, 3, 512)         0         \n",
      "_________________________________________________________________\n",
      "flatten_10 (Flatten)         (None, 4608)              0         \n",
      "_________________________________________________________________\n",
      "dense_27 (Dense)             (None, 4096)              18878464  \n",
      "_________________________________________________________________\n",
      "dense_28 (Dense)             (None, 4096)              16781312  \n",
      "_________________________________________________________________\n",
      "dense_29 (Dense)             (None, 3)                 12291     \n",
      "=================================================================\n",
      "Total params: 43,306,179\n",
      "Trainable params: 43,306,179\n",
      "Non-trainable params: 0\n",
      "_________________________________________________________________\n"
     ]
    }
   ],
   "source": [
    "input_shape = (48, 48, 1)\n",
    "classes = 3\n",
    "\n",
    "model = Sequential([\n",
    "    # block 1\n",
    "    Conv2D(64, (3, 3), input_shape=input_shape, padding='same', activation='relu'),\n",
    "    Conv2D(64, (3, 3), activation='relu', padding='same'),\n",
    "    MaxPooling2D(pool_size=(2, 2), strides=(2, 2)),\n",
    "    \n",
    "    # block 2\n",
    "    Conv2D(128, (3, 3), activation='relu', padding='same'),\n",
    "    Conv2D(128, (3, 3), activation='relu', padding='same',),\n",
    "    MaxPooling2D(pool_size=(2, 2), strides=(2, 2)),\n",
    "    \n",
    "    # block 3\n",
    "    Conv2D(256, (3, 3), activation='relu', padding='same',),\n",
    "    Conv2D(256, (3, 3), activation='relu', padding='same',),\n",
    "    Conv2D(256, (3, 3), activation='relu', padding='same',),\n",
    "    MaxPooling2D(pool_size=(2, 2), strides=(2, 2)),\n",
    "    \n",
    "    # block 4\n",
    "    Conv2D(512, (3, 3), activation='relu', padding='same',),\n",
    "    Conv2D(512, (3, 3), activation='relu', padding='same',),\n",
    "    Conv2D(512, (3, 3), activation='relu', padding='same',),\n",
    "    MaxPooling2D(pool_size=(2, 2), strides=(2, 2)),\n",
    "    \n",
    "    # block 5\n",
    "#     Conv2D(512, (3, 3), activation='relu', padding='same',),\n",
    "#     Conv2D(512, (3, 3), activation='relu', padding='same',),\n",
    "#     Conv2D(512, (3, 3), activation='relu', padding='same',),\n",
    "#     MaxPooling2D(pool_size=(2, 2), strides=(2, 2)),\n",
    "    \n",
    "    # top \n",
    "    Flatten(),\n",
    "    Dense(4096, activation='relu'),\n",
    "    Dense(4096, activation='relu'),\n",
    "    Dense(classes, activation='softmax')\n",
    "])\n",
    "\n",
    "model.summary()"
   ]
  },
  {
   "cell_type": "code",
   "execution_count": 107,
   "metadata": {},
   "outputs": [
    {
     "data": {
      "text/plain": [
       "['test_data.csv',\n",
       " 'train_target.csv',\n",
       " 'sample-submission.csv',\n",
       " 'train_data.csv']"
      ]
     },
     "execution_count": 107,
     "metadata": {},
     "output_type": "execute_result"
    }
   ],
   "source": [
    "import os\n",
    "os.listdir('../input')"
   ]
  },
  {
   "cell_type": "code",
   "execution_count": 127,
   "metadata": {},
   "outputs": [],
   "source": [
    "import pandas as pd\n",
    "\n",
    "# data directories\n",
    "train_dir = '../input'\n",
    "train_csv = '/train_data.csv'\n",
    "\n",
    "# read csv\n",
    "df = pd.read_csv(train_dir+train_csv, header=None)\n",
    "\n",
    "# array of 16.2k 48x48 image arrays\n",
    "nb_total_train = 16175\n",
    "img_wh = 48\n",
    "\n",
    "# split into train / test manually\n",
    "nb_training_samples = 14175\n",
    "nb_testing_samples = 2000\n",
    "\n",
    "train_data = np.zeros((nb_training_samples, img_wh, img_wh, 1))\n",
    "test_data = np.zeros((nb_testing_samples, img_wh, img_wh, 1))\n",
    "\n",
    "# iterate over rows and reshape as 2304x1 array to 48x48 array\n",
    "for i, row in df.iterrows():\n",
    "    img = np.asarray(row).reshape((48,48,1))\n",
    "    if i < nb_training_samples:\n",
    "        train_data[i] = img\n",
    "    else:\n",
    "        test_data[i-nb_training_samples] = img"
   ]
  },
  {
   "cell_type": "code",
   "execution_count": 109,
   "metadata": {},
   "outputs": [
    {
     "name": "stdout",
     "output_type": "stream",
     "text": [
      "(14175, 48, 48, 1)\n",
      "(2000, 48, 48, 1)\n"
     ]
    }
   ],
   "source": [
    "print(train_data.shape)\n",
    "print(test_data.shape)"
   ]
  },
  {
   "cell_type": "code",
   "execution_count": 110,
   "metadata": {},
   "outputs": [
    {
     "data": {
      "text/plain": [
       "(2304,)"
      ]
     },
     "execution_count": 110,
     "metadata": {},
     "output_type": "execute_result"
    }
   ],
   "source": [
    "row.shape"
   ]
  },
  {
   "cell_type": "code",
   "execution_count": 133,
   "metadata": {},
   "outputs": [
    {
     "data": {
      "text/html": [
       "<div>\n",
       "<style scoped>\n",
       "    .dataframe tbody tr th:only-of-type {\n",
       "        vertical-align: middle;\n",
       "    }\n",
       "\n",
       "    .dataframe tbody tr th {\n",
       "        vertical-align: top;\n",
       "    }\n",
       "\n",
       "    .dataframe thead th {\n",
       "        text-align: right;\n",
       "    }\n",
       "</style>\n",
       "<table border=\"1\" class=\"dataframe\">\n",
       "  <thead>\n",
       "    <tr style=\"text-align: right;\">\n",
       "      <th></th>\n",
       "      <th>0</th>\n",
       "      <th>1</th>\n",
       "      <th>2</th>\n",
       "      <th>3</th>\n",
       "      <th>4</th>\n",
       "      <th>5</th>\n",
       "      <th>6</th>\n",
       "      <th>7</th>\n",
       "      <th>8</th>\n",
       "      <th>9</th>\n",
       "      <th>...</th>\n",
       "      <th>2294</th>\n",
       "      <th>2295</th>\n",
       "      <th>2296</th>\n",
       "      <th>2297</th>\n",
       "      <th>2298</th>\n",
       "      <th>2299</th>\n",
       "      <th>2300</th>\n",
       "      <th>2301</th>\n",
       "      <th>2302</th>\n",
       "      <th>2303</th>\n",
       "    </tr>\n",
       "  </thead>\n",
       "  <tbody>\n",
       "    <tr>\n",
       "      <th>0</th>\n",
       "      <td>146</td>\n",
       "      <td>146</td>\n",
       "      <td>145</td>\n",
       "      <td>145</td>\n",
       "      <td>145</td>\n",
       "      <td>142</td>\n",
       "      <td>140</td>\n",
       "      <td>114</td>\n",
       "      <td>126</td>\n",
       "      <td>128</td>\n",
       "      <td>...</td>\n",
       "      <td>103</td>\n",
       "      <td>103</td>\n",
       "      <td>93</td>\n",
       "      <td>87</td>\n",
       "      <td>73</td>\n",
       "      <td>65</td>\n",
       "      <td>65</td>\n",
       "      <td>76</td>\n",
       "      <td>85</td>\n",
       "      <td>81</td>\n",
       "    </tr>\n",
       "    <tr>\n",
       "      <th>1</th>\n",
       "      <td>9</td>\n",
       "      <td>12</td>\n",
       "      <td>34</td>\n",
       "      <td>72</td>\n",
       "      <td>98</td>\n",
       "      <td>110</td>\n",
       "      <td>113</td>\n",
       "      <td>116</td>\n",
       "      <td>126</td>\n",
       "      <td>134</td>\n",
       "      <td>...</td>\n",
       "      <td>141</td>\n",
       "      <td>121</td>\n",
       "      <td>131</td>\n",
       "      <td>118</td>\n",
       "      <td>93</td>\n",
       "      <td>74</td>\n",
       "      <td>31</td>\n",
       "      <td>7</td>\n",
       "      <td>4</td>\n",
       "      <td>9</td>\n",
       "    </tr>\n",
       "    <tr>\n",
       "      <th>2</th>\n",
       "      <td>255</td>\n",
       "      <td>129</td>\n",
       "      <td>62</td>\n",
       "      <td>59</td>\n",
       "      <td>45</td>\n",
       "      <td>31</td>\n",
       "      <td>29</td>\n",
       "      <td>26</td>\n",
       "      <td>32</td>\n",
       "      <td>23</td>\n",
       "      <td>...</td>\n",
       "      <td>122</td>\n",
       "      <td>130</td>\n",
       "      <td>138</td>\n",
       "      <td>113</td>\n",
       "      <td>43</td>\n",
       "      <td>26</td>\n",
       "      <td>16</td>\n",
       "      <td>12</td>\n",
       "      <td>14</td>\n",
       "      <td>16</td>\n",
       "    </tr>\n",
       "    <tr>\n",
       "      <th>3</th>\n",
       "      <td>217</td>\n",
       "      <td>191</td>\n",
       "      <td>222</td>\n",
       "      <td>176</td>\n",
       "      <td>150</td>\n",
       "      <td>201</td>\n",
       "      <td>157</td>\n",
       "      <td>72</td>\n",
       "      <td>59</td>\n",
       "      <td>74</td>\n",
       "      <td>...</td>\n",
       "      <td>223</td>\n",
       "      <td>229</td>\n",
       "      <td>114</td>\n",
       "      <td>70</td>\n",
       "      <td>111</td>\n",
       "      <td>95</td>\n",
       "      <td>71</td>\n",
       "      <td>109</td>\n",
       "      <td>159</td>\n",
       "      <td>191</td>\n",
       "    </tr>\n",
       "    <tr>\n",
       "      <th>4</th>\n",
       "      <td>19</td>\n",
       "      <td>11</td>\n",
       "      <td>4</td>\n",
       "      <td>37</td>\n",
       "      <td>62</td>\n",
       "      <td>78</td>\n",
       "      <td>98</td>\n",
       "      <td>113</td>\n",
       "      <td>121</td>\n",
       "      <td>126</td>\n",
       "      <td>...</td>\n",
       "      <td>152</td>\n",
       "      <td>149</td>\n",
       "      <td>156</td>\n",
       "      <td>161</td>\n",
       "      <td>160</td>\n",
       "      <td>158</td>\n",
       "      <td>160</td>\n",
       "      <td>177</td>\n",
       "      <td>187</td>\n",
       "      <td>181</td>\n",
       "    </tr>\n",
       "  </tbody>\n",
       "</table>\n",
       "<p>5 rows × 2304 columns</p>\n",
       "</div>"
      ],
      "text/plain": [
       "   0     1     2     3     4     5     6     7     8     9     ...  2294  \\\n",
       "0   146   146   145   145   145   142   140   114   126   128  ...   103   \n",
       "1     9    12    34    72    98   110   113   116   126   134  ...   141   \n",
       "2   255   129    62    59    45    31    29    26    32    23  ...   122   \n",
       "3   217   191   222   176   150   201   157    72    59    74  ...   223   \n",
       "4    19    11     4    37    62    78    98   113   121   126  ...   152   \n",
       "\n",
       "   2295  2296  2297  2298  2299  2300  2301  2302  2303  \n",
       "0   103    93    87    73    65    65    76    85    81  \n",
       "1   121   131   118    93    74    31     7     4     9  \n",
       "2   130   138   113    43    26    16    12    14    16  \n",
       "3   229   114    70   111    95    71   109   159   191  \n",
       "4   149   156   161   160   158   160   177   187   181  \n",
       "\n",
       "[5 rows x 2304 columns]"
      ]
     },
     "execution_count": 133,
     "metadata": {},
     "output_type": "execute_result"
    }
   ],
   "source": [
    "df.head()"
   ]
  },
  {
   "cell_type": "code",
   "execution_count": 129,
   "metadata": {},
   "outputs": [
    {
     "data": {
      "text/plain": [
       "array([[[146.],\n",
       "        [146.],\n",
       "        [145.],\n",
       "        ...,\n",
       "        [ 93.],\n",
       "        [ 78.],\n",
       "        [ 78.]],\n",
       "\n",
       "       [[143.],\n",
       "        [143.],\n",
       "        [144.],\n",
       "        ...,\n",
       "        [129.],\n",
       "        [ 83.],\n",
       "        [ 80.]],\n",
       "\n",
       "       [[128.],\n",
       "        [128.],\n",
       "        [129.],\n",
       "        ...,\n",
       "        [152.],\n",
       "        [100.],\n",
       "        [ 70.]],\n",
       "\n",
       "       ...,\n",
       "\n",
       "       [[ 92.],\n",
       "        [101.],\n",
       "        [ 93.],\n",
       "        ...,\n",
       "        [ 67.],\n",
       "        [ 78.],\n",
       "        [ 85.]],\n",
       "\n",
       "       [[ 83.],\n",
       "        [ 99.],\n",
       "        [100.],\n",
       "        ...,\n",
       "        [ 69.],\n",
       "        [ 82.],\n",
       "        [ 82.]],\n",
       "\n",
       "       [[ 82.],\n",
       "        [ 97.],\n",
       "        [104.],\n",
       "        ...,\n",
       "        [ 76.],\n",
       "        [ 85.],\n",
       "        [ 81.]]])"
      ]
     },
     "execution_count": 129,
     "metadata": {},
     "output_type": "execute_result"
    }
   ],
   "source": [
    "train_data[0]"
   ]
  },
  {
   "cell_type": "code",
   "execution_count": 130,
   "metadata": {},
   "outputs": [],
   "source": [
    "target_csv = '/train_target.csv'\n",
    "\n",
    "target_df = pd.read_csv(train_dir+target_csv, header=None)\n",
    "\n",
    "# split into train / test manually\n",
    "train_labels = np.zeros((nb_training_samples,1))\n",
    "test_labels = np.zeros((nb_testing_samples,1))\n",
    "\n",
    "for i, row in target_df.iterrows():\n",
    "    if i < nb_training_samples:\n",
    "        train_labels[i] = row\n",
    "    else:\n",
    "        test_labels[i-nb_training_samples] = row\n",
    "\n",
    "# convert to keras friendy format\n",
    "train_labels = keras.utils.to_categorical(train_labels, num_classes=classes)\n",
    "test_labels = keras.utils.to_categorical(test_labels, num_classes=classes)"
   ]
  },
  {
   "cell_type": "code",
   "execution_count": 114,
   "metadata": {},
   "outputs": [
    {
     "name": "stdout",
     "output_type": "stream",
     "text": [
      "(14175, 3)\n",
      "(2000, 3)\n"
     ]
    }
   ],
   "source": [
    "print(train_labels.shape)\n",
    "print(test_labels.shape)"
   ]
  },
  {
   "cell_type": "code",
   "execution_count": 115,
   "metadata": {},
   "outputs": [
    {
     "name": "stdout",
     "output_type": "stream",
     "text": [
      "(100, 100, 100, 3)\n",
      "(100, 10)\n"
     ]
    }
   ],
   "source": [
    "# Generate dummy data\n",
    "x_train = np.random.random((100, 100, 100, 3))\n",
    "y_train = keras.utils.to_categorical(np.random.randint(10, size=(100, 1)), num_classes=10)\n",
    "x_test = np.random.random((20, 100, 100, 3))\n",
    "y_test = keras.utils.to_categorical(np.random.randint(10, size=(20, 1)), num_classes=10)\n",
    "print(x_train.shape)\n",
    "print(y_train.shape)"
   ]
  },
  {
   "cell_type": "code",
   "execution_count": 134,
   "metadata": {},
   "outputs": [],
   "source": [
    "image_gen = ImageDataGenerator(\n",
    "    width_shift_range=0.15,\n",
    "    height_shift_range=0.15,\n",
    "    rotation_range=20,\n",
    "    shear_range=0.01,\n",
    "    zoom_range=[.9, 1.2],\n",
    "    horizontal_flip=True,\n",
    "    vertical_flip=False,\n",
    "    fill_mode='reflect'\n",
    ")"
   ]
  },
  {
   "cell_type": "code",
   "execution_count": 135,
   "metadata": {},
   "outputs": [
    {
     "name": "stdout",
     "output_type": "stream",
     "text": [
      "Epoch 1/15\n",
      "14175/14175 [==============================] - 43s 3ms/step - loss: 0.7460\n",
      "Epoch 2/15\n",
      "14175/14175 [==============================] - 41s 3ms/step - loss: 0.7433\n",
      "Epoch 3/15\n",
      "14175/14175 [==============================] - 41s 3ms/step - loss: 0.6700\n",
      "Epoch 4/15\n",
      "14175/14175 [==============================] - 41s 3ms/step - loss: 0.6720\n",
      "Epoch 5/15\n",
      "14175/14175 [==============================] - 41s 3ms/step - loss: 0.6876\n",
      "Epoch 6/15\n",
      "14175/14175 [==============================] - 41s 3ms/step - loss: 0.7120\n",
      "Epoch 7/15\n",
      "14175/14175 [==============================] - 41s 3ms/step - loss: 0.6828\n",
      "Epoch 8/15\n",
      "14175/14175 [==============================] - 41s 3ms/step - loss: 0.7452\n",
      "Epoch 9/15\n",
      "14175/14175 [==============================] - 41s 3ms/step - loss: 0.6841\n",
      "Epoch 10/15\n",
      "14175/14175 [==============================] - 41s 3ms/step - loss: 0.7312\n",
      "Epoch 11/15\n",
      "14175/14175 [==============================] - 41s 3ms/step - loss: 0.7348\n",
      "Epoch 12/15\n",
      "14175/14175 [==============================] - 41s 3ms/step - loss: 0.7363\n",
      "Epoch 13/15\n",
      "14175/14175 [==============================] - 41s 3ms/step - loss: 0.7469\n",
      "Epoch 14/15\n",
      "14175/14175 [==============================] - 41s 3ms/step - loss: 0.7524\n",
      "Epoch 15/15\n",
      "14175/14175 [==============================] - 41s 3ms/step - loss: 0.7278\n"
     ]
    },
    {
     "data": {
      "text/plain": [
       "<keras.callbacks.History at 0x7f0d5603d080>"
      ]
     },
     "execution_count": 135,
     "metadata": {},
     "output_type": "execute_result"
    }
   ],
   "source": [
    "sgd = SGD(lr=0.01, decay=1e-6, momentum=0.9, nesterov=True)\n",
    "model.compile(loss='categorical_crossentropy', optimizer=sgd)\n",
    "\n",
    "model.fit(train_data, train_labels, batch_size=32, epochs=15)"
   ]
  },
  {
   "cell_type": "code",
   "execution_count": 136,
   "metadata": {},
   "outputs": [
    {
     "name": "stdout",
     "output_type": "stream",
     "text": [
      "2000/2000 [==============================] - 2s 1ms/step\n"
     ]
    },
    {
     "data": {
      "text/plain": [
       "0.8447884330749512"
      ]
     },
     "execution_count": 136,
     "metadata": {},
     "output_type": "execute_result"
    }
   ],
   "source": [
    "score = model.evaluate(test_data, test_labels, batch_size=32)\n",
    "score"
   ]
  },
  {
   "cell_type": "code",
   "execution_count": 137,
   "metadata": {},
   "outputs": [],
   "source": [
    "model.save_weights('lr.01_decay1e-6_mom.9_batch32_epocs15a.h5')"
   ]
  },
  {
   "cell_type": "code",
   "execution_count": null,
   "metadata": {},
   "outputs": [],
   "source": []
  }
 ],
 "metadata": {
  "kernelspec": {
   "display_name": "Python 3",
   "language": "python",
   "name": "python3"
  },
  "language_info": {
   "codemirror_mode": {
    "name": "ipython",
    "version": 3
   },
   "file_extension": ".py",
   "mimetype": "text/x-python",
   "name": "python",
   "nbconvert_exporter": "python",
   "pygments_lexer": "ipython3",
   "version": "3.5.3"
  }
 },
 "nbformat": 4,
 "nbformat_minor": 2
}
