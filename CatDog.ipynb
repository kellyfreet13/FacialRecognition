{
 "cells": [
  {
   "cell_type": "code",
   "execution_count": 28,
   "metadata": {},
   "outputs": [],
   "source": [
    "# building a model\n",
    "from keras.models import Sequential\n",
    "from keras.layers import Conv2D, MaxPooling2D, Dropout, Flatten, Dense, Activation, BatchNormalization\n",
    "\n",
    "# dealing with images\n",
    "from keras.preprocessing.image import ImageDataGenerator, load_img\n",
    "from keras.utils import to_categorical\n",
    "\n",
    "# splitting into train and test\n",
    "from sklearn.model_selection import train_test_split\n",
    "\n",
    "# utilities\n",
    "import random\n",
    "import numpy as np\n",
    "import pandas as pd\n",
    "import os"
   ]
  },
  {
   "cell_type": "code",
   "execution_count": 9,
   "metadata": {},
   "outputs": [
    {
     "name": "stdout",
     "output_type": "stream",
     "text": [
      "['train', 'sampleSubmission.csv', 'test1.zip']\n",
      "25000  training images\n"
     ]
    }
   ],
   "source": [
    "data_dir = '../catdog_input'\n",
    "training_dir = data_dir+'/train'\n",
    "print(os.listdir(data_dir))\n",
    "\n",
    "nb_train_imgs = len(os.listdir(training_dir))\n",
    "print(nb_train_imgs, 'training images')"
   ]
  },
  {
   "cell_type": "code",
   "execution_count": 51,
   "metadata": {},
   "outputs": [
    {
     "name": "stdout",
     "output_type": "stream",
     "text": [
      "<class 'str'> \n",
      "\n",
      "1\n",
      "1\n",
      "1\n",
      "1\n",
      "1\n",
      "1\n",
      "0\n",
      "1\n",
      "0\n",
      "1\n"
     ]
    }
   ],
   "source": [
    "imgs = os.listdir(training_dir)\n",
    "labels = np.zeros((nb_train_imgs,), dtype='object')\n",
    "for i, img in enumerate(imgs):\n",
    "    label = img.split('.')[0]\n",
    "    if label == 'dog':\n",
    "        labels[i] = '1'\n",
    "    else:\n",
    "        labels[i] = '0'\n",
    "\n",
    "df = pd.DataFrame({\n",
    "    'filename': imgs,\n",
    "    'category': labels\n",
    "})\n",
    "\n",
    "# look at a few samples\n",
    "for i in range(10):\n",
    "    print(labels[i])"
   ]
  },
  {
   "cell_type": "code",
   "execution_count": 36,
   "metadata": {},
   "outputs": [
    {
     "data": {
      "text/html": [
       "<div>\n",
       "<style scoped>\n",
       "    .dataframe tbody tr th:only-of-type {\n",
       "        vertical-align: middle;\n",
       "    }\n",
       "\n",
       "    .dataframe tbody tr th {\n",
       "        vertical-align: top;\n",
       "    }\n",
       "\n",
       "    .dataframe thead th {\n",
       "        text-align: right;\n",
       "    }\n",
       "</style>\n",
       "<table border=\"1\" class=\"dataframe\">\n",
       "  <thead>\n",
       "    <tr style=\"text-align: right;\">\n",
       "      <th></th>\n",
       "      <th>category</th>\n",
       "      <th>filename</th>\n",
       "    </tr>\n",
       "  </thead>\n",
       "  <tbody>\n",
       "    <tr>\n",
       "      <th>24995</th>\n",
       "      <td>0</td>\n",
       "      <td>cat.4228.jpg</td>\n",
       "    </tr>\n",
       "    <tr>\n",
       "      <th>24996</th>\n",
       "      <td>1</td>\n",
       "      <td>dog.2454.jpg</td>\n",
       "    </tr>\n",
       "    <tr>\n",
       "      <th>24997</th>\n",
       "      <td>1</td>\n",
       "      <td>dog.8236.jpg</td>\n",
       "    </tr>\n",
       "    <tr>\n",
       "      <th>24998</th>\n",
       "      <td>1</td>\n",
       "      <td>dog.2249.jpg</td>\n",
       "    </tr>\n",
       "    <tr>\n",
       "      <th>24999</th>\n",
       "      <td>1</td>\n",
       "      <td>dog.11217.jpg</td>\n",
       "    </tr>\n",
       "  </tbody>\n",
       "</table>\n",
       "</div>"
      ],
      "text/plain": [
       "       category       filename\n",
       "24995         0   cat.4228.jpg\n",
       "24996         1   dog.2454.jpg\n",
       "24997         1   dog.8236.jpg\n",
       "24998         1   dog.2249.jpg\n",
       "24999         1  dog.11217.jpg"
      ]
     },
     "execution_count": 36,
     "metadata": {},
     "output_type": "execute_result"
    }
   ],
   "source": [
    "df.tail()"
   ]
  },
  {
   "cell_type": "code",
   "execution_count": 27,
   "metadata": {},
   "outputs": [
    {
     "name": "stdout",
     "output_type": "stream",
     "text": [
      "WARNING:tensorflow:From /usr/local/lib/python3.5/dist-packages/tensorflow/python/framework/op_def_library.py:263: colocate_with (from tensorflow.python.framework.ops) is deprecated and will be removed in a future version.\n",
      "Instructions for updating:\n",
      "Colocations handled automatically by placer.\n",
      "WARNING:tensorflow:From /usr/local/lib/python3.5/dist-packages/keras/backend/tensorflow_backend.py:3445: calling dropout (from tensorflow.python.ops.nn_ops) with keep_prob is deprecated and will be removed in a future version.\n",
      "Instructions for updating:\n",
      "Please use `rate` instead of `keep_prob`. Rate should be set to `rate = 1 - keep_prob`.\n",
      "_________________________________________________________________\n",
      "Layer (type)                 Output Shape              Param #   \n",
      "=================================================================\n",
      "conv2d_1 (Conv2D)            (None, 126, 126, 32)      896       \n",
      "_________________________________________________________________\n",
      "batch_normalization_1 (Batch (None, 126, 126, 32)      128       \n",
      "_________________________________________________________________\n",
      "max_pooling2d_1 (MaxPooling2 (None, 63, 63, 32)        0         \n",
      "_________________________________________________________________\n",
      "dropout_1 (Dropout)          (None, 63, 63, 32)        0         \n",
      "_________________________________________________________________\n",
      "conv2d_2 (Conv2D)            (None, 61, 61, 64)        18496     \n",
      "_________________________________________________________________\n",
      "batch_normalization_2 (Batch (None, 61, 61, 64)        256       \n",
      "_________________________________________________________________\n",
      "max_pooling2d_2 (MaxPooling2 (None, 30, 30, 64)        0         \n",
      "_________________________________________________________________\n",
      "dropout_2 (Dropout)          (None, 30, 30, 64)        0         \n",
      "_________________________________________________________________\n",
      "conv2d_3 (Conv2D)            (None, 28, 28, 128)       73856     \n",
      "_________________________________________________________________\n",
      "batch_normalization_3 (Batch (None, 28, 28, 128)       512       \n",
      "_________________________________________________________________\n",
      "max_pooling2d_3 (MaxPooling2 (None, 14, 14, 128)       0         \n",
      "_________________________________________________________________\n",
      "dropout_3 (Dropout)          (None, 14, 14, 128)       0         \n",
      "_________________________________________________________________\n",
      "flatten_1 (Flatten)          (None, 25088)             0         \n",
      "_________________________________________________________________\n",
      "dense_1 (Dense)              (None, 512)               12845568  \n",
      "_________________________________________________________________\n",
      "batch_normalization_4 (Batch (None, 512)               2048      \n",
      "_________________________________________________________________\n",
      "dropout_4 (Dropout)          (None, 512)               0         \n",
      "_________________________________________________________________\n",
      "dense_2 (Dense)              (None, 1)                 513       \n",
      "=================================================================\n",
      "Total params: 12,942,273\n",
      "Trainable params: 12,940,801\n",
      "Non-trainable params: 1,472\n",
      "_________________________________________________________________\n"
     ]
    }
   ],
   "source": [
    "img_wh = 128\n",
    "img_d = 3\n",
    "input_shape = (img_wh, img_wh, img_d)\n",
    "\n",
    "model = Sequential()\n",
    "\n",
    "model.add(Conv2D(32, (3, 3), activation='relu', input_shape=input_shape))\n",
    "model.add(BatchNormalization())\n",
    "model.add(MaxPooling2D(pool_size=(2, 2)))\n",
    "model.add(Dropout(0.25))\n",
    "\n",
    "model.add(Conv2D(64, (3, 3), activation='relu'))\n",
    "model.add(BatchNormalization())\n",
    "model.add(MaxPooling2D(pool_size=(2, 2)))\n",
    "model.add(Dropout(0.25))\n",
    "\n",
    "model.add(Conv2D(128, (3, 3), activation='relu'))\n",
    "model.add(BatchNormalization())\n",
    "model.add(MaxPooling2D(pool_size=(2, 2)))\n",
    "model.add(Dropout(0.25))\n",
    "\n",
    "model.add(Flatten())\n",
    "model.add(Dense(512, activation='relu'))\n",
    "model.add(BatchNormalization())\n",
    "model.add(Dropout(0.5))\n",
    "model.add(Dense(1, activation='sigmoid'))\n",
    "\n",
    "model.compile(loss='binary_crossentropy', optimizer='rmsprop', metrics=['accuracy'])\n",
    "\n",
    "model.summary()"
   ]
  },
  {
   "cell_type": "code",
   "execution_count": 52,
   "metadata": {},
   "outputs": [],
   "source": [
    "train_df, validate_df = train_test_split(df, test_size=0.20, random_state=42)\n",
    "train_df = train_df.reset_index(drop=True)\n",
    "validate_df = validate_df.reset_index(drop=True)"
   ]
  },
  {
   "cell_type": "code",
   "execution_count": 55,
   "metadata": {},
   "outputs": [
    {
     "name": "stdout",
     "output_type": "stream",
     "text": [
      "20000\n",
      "5000\n"
     ]
    }
   ],
   "source": [
    "total_train = train_df.shape[0]\n",
    "total_validate = validate_df.shape[0]\n",
    "\n",
    "print(total_train)\n",
    "print(total_validate)"
   ]
  },
  {
   "cell_type": "code",
   "execution_count": 63,
   "metadata": {},
   "outputs": [
    {
     "name": "stdout",
     "output_type": "stream",
     "text": [
      "Found 20000 images belonging to 2 classes.\n"
     ]
    }
   ],
   "source": [
    "train_datagen = ImageDataGenerator(\n",
    "    rotation_range=15,\n",
    "    rescale=1./255,\n",
    "    shear_range=0.1,\n",
    "    zoom_range=0.2,\n",
    "    horizontal_flip=True,\n",
    "    width_shift_range=0.1,\n",
    "    height_shift_range=0.1\n",
    ")\n",
    "\n",
    "# params\n",
    "flow_training_dir = training_dir+'/'\n",
    "img_dim = (img_wh, img_wh)\n",
    "batch_size = 15\n",
    "\n",
    "train_generator = train_datagen.flow_from_dataframe(\n",
    "    train_df, \n",
    "    flow_training_dir, \n",
    "    x_col='filename',\n",
    "    y_col='category',\n",
    "    target_size=img_dim,\n",
    "    class_mode='binary',\n",
    "    batch_size=batch_size\n",
    ")"
   ]
  },
  {
   "cell_type": "code",
   "execution_count": 64,
   "metadata": {},
   "outputs": [
    {
     "name": "stdout",
     "output_type": "stream",
     "text": [
      "Found 5000 images belonging to 2 classes.\n"
     ]
    }
   ],
   "source": [
    "validation_datagen = ImageDataGenerator(rescale=1./255)\n",
    "validation_generator = validation_datagen.flow_from_dataframe(\n",
    "    validate_df, \n",
    "    flow_training_dir, \n",
    "    x_col='filename',\n",
    "    y_col='category',\n",
    "    target_size=img_dim,\n",
    "    class_mode='binary',\n",
    "    batch_size=batch_size\n",
    ")"
   ]
  },
  {
   "cell_type": "code",
   "execution_count": 65,
   "metadata": {},
   "outputs": [
    {
     "name": "stdout",
     "output_type": "stream",
     "text": [
      "Epoch 1/15\n",
      "1333/1333 [==============================] - 272s 204ms/step - loss: 0.6570 - acc: 0.6537 - val_loss: 0.5498 - val_acc: 0.7281\n",
      "Epoch 2/15\n",
      "1333/1333 [==============================] - 268s 201ms/step - loss: 0.5214 - acc: 0.7432 - val_loss: 0.4848 - val_acc: 0.7665\n",
      "Epoch 3/15\n",
      "1333/1333 [==============================] - 269s 202ms/step - loss: 0.4758 - acc: 0.7742 - val_loss: 0.4480 - val_acc: 0.7954\n",
      "Epoch 4/15\n",
      "1333/1333 [==============================] - 270s 203ms/step - loss: 0.4435 - acc: 0.7948 - val_loss: 0.4958 - val_acc: 0.7537\n",
      "Epoch 5/15\n",
      "1333/1333 [==============================] - 272s 204ms/step - loss: 0.4148 - acc: 0.8092 - val_loss: 1.1870 - val_acc: 0.6217\n",
      "Epoch 6/15\n",
      "1333/1333 [==============================] - 270s 202ms/step - loss: 0.3961 - acc: 0.8185 - val_loss: 0.3841 - val_acc: 0.8423\n",
      "Epoch 7/15\n",
      "1333/1333 [==============================] - 270s 202ms/step - loss: 0.3820 - acc: 0.8298 - val_loss: 0.3916 - val_acc: 0.8337\n",
      "Epoch 8/15\n",
      "1333/1333 [==============================] - 271s 204ms/step - loss: 0.3770 - acc: 0.8344 - val_loss: 0.3022 - val_acc: 0.8744\n",
      "Epoch 9/15\n",
      "1333/1333 [==============================] - 271s 203ms/step - loss: 0.3733 - acc: 0.8332 - val_loss: 0.3855 - val_acc: 0.8235\n",
      "Epoch 10/15\n",
      "1333/1333 [==============================] - 269s 202ms/step - loss: 0.3564 - acc: 0.8424 - val_loss: 0.8800 - val_acc: 0.6951\n",
      "Epoch 11/15\n",
      "1333/1333 [==============================] - 270s 203ms/step - loss: 0.3480 - acc: 0.8482 - val_loss: 0.3494 - val_acc: 0.8427\n",
      "Epoch 12/15\n",
      "1333/1333 [==============================] - 270s 203ms/step - loss: 0.3485 - acc: 0.8499 - val_loss: 0.3928 - val_acc: 0.8235\n",
      "Epoch 13/15\n",
      "1333/1333 [==============================] - 272s 204ms/step - loss: 0.3390 - acc: 0.8510 - val_loss: 0.3470 - val_acc: 0.8614\n",
      "Epoch 14/15\n",
      "1333/1333 [==============================] - 272s 204ms/step - loss: 0.3320 - acc: 0.8593 - val_loss: 0.2848 - val_acc: 0.8752\n",
      "Epoch 15/15\n",
      "1333/1333 [==============================] - 270s 203ms/step - loss: 0.3337 - acc: 0.8577 - val_loss: 0.2825 - val_acc: 0.8812\n"
     ]
    },
    {
     "data": {
      "text/plain": [
       "<keras.callbacks.History at 0x7f4676534588>"
      ]
     },
     "execution_count": 65,
     "metadata": {},
     "output_type": "execute_result"
    }
   ],
   "source": [
    "nb_epochs = 15\n",
    "perc_valid = 0.2\n",
    "model.fit_generator(\n",
    "    train_generator, \n",
    "    epochs=nb_epochs,\n",
    "    validation_data=validation_generator,\n",
    "    validation_steps=total_validate//batch_size,\n",
    "    steps_per_epoch=total_train//batch_size\n",
    ")"
   ]
  },
  {
   "cell_type": "code",
   "execution_count": null,
   "metadata": {},
   "outputs": [],
   "source": []
  }
 ],
 "metadata": {
  "kernelspec": {
   "display_name": "Python 3",
   "language": "python",
   "name": "python3"
  },
  "language_info": {
   "codemirror_mode": {
    "name": "ipython",
    "version": 3
   },
   "file_extension": ".py",
   "mimetype": "text/x-python",
   "name": "python",
   "nbconvert_exporter": "python",
   "pygments_lexer": "ipython3",
   "version": "3.5.3"
  }
 },
 "nbformat": 4,
 "nbformat_minor": 2
}
