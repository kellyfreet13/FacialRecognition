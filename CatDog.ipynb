{
 "cells": [
  {
   "cell_type": "code",
   "execution_count": 14,
   "metadata": {},
   "outputs": [],
   "source": [
    "# building a model\n",
    "from keras.models import Sequential                       # building a sequential model\n",
    "from keras.layers import Conv2D                           # convolution layer\n",
    "from keras.layers import MaxPooling2D                     # pooling layer\n",
    "from keras.layers import Dropout                          # regularization, prevent overfitting\n",
    "from keras.layers import Dense                            # fully connected layers\n",
    "from keras.layers import GlobalMaxPooling2D, Flatten      # flattening for fully connected layers\n",
    "from keras.optimizers import SGD\n",
    "\n",
    "# dealing with images\n",
    "from keras.preprocessing.image import ImageDataGenerator  # data augmentation\n",
    "from keras.utils import to_categorical                    # classification\n",
    "from sklearn.model_selection import train_test_split      # split training into train/test\n",
    "\n",
    "# utilities\n",
    "import random                                             # seed for train_test_split\n",
    "import numpy as np                                        # linear algebra, of course\n",
    "import pandas as pd                                       # reading csv and storing image data\n",
    "import os                                                 # listing files\n",
    "import matplotlib.pyplot as plt                           # plotting"
   ]
  },
  {
   "cell_type": "code",
   "execution_count": 2,
   "metadata": {},
   "outputs": [
    {
     "name": "stdout",
     "output_type": "stream",
     "text": [
      "['train', 'sampleSubmission.csv', 'test1.zip']\n",
      "25000 training images\n"
     ]
    }
   ],
   "source": [
    "data_dir = '../../catdog_input'                           # set the base data directory\n",
    "training_dir = data_dir+'/train'                          # set the training directory\n",
    "print(os.listdir(data_dir))                               # see which files are in the data directory\n",
    "\n",
    "nb_train_imgs = len(os.listdir(training_dir))             # get the number of training images\n",
    "print(nb_train_imgs, 'training images')                   # see how many training images there are"
   ]
  },
  {
   "cell_type": "code",
   "execution_count": 3,
   "metadata": {},
   "outputs": [
    {
     "name": "stdout",
     "output_type": "stream",
     "text": [
      "1\n",
      "1\n",
      "1\n",
      "1\n",
      "1\n",
      "1\n",
      "0\n",
      "1\n",
      "0\n",
      "1\n"
     ]
    }
   ],
   "source": [
    "imgs = os.listdir(training_dir)                           # list of image file names\n",
    "labels = np.zeros((nb_train_imgs,), dtype='object')       # init. empty array for labels\n",
    "for i, img in enumerate(imgs):                            # iterate over each image\n",
    "    label = img.split('.')[0]                             # extract the class from file name\n",
    "    if label == 'dog':                                    # if the label is dog, insert 1 to label array\n",
    "        labels[i] = '1'\n",
    "    else:                                                 # if the label is cat, insert 0 to label array\n",
    "        labels[i] = '0'\n",
    "        \n",
    "df = pd.DataFrame({                                       # create dataframe to feed to keras\n",
    "    'filename': imgs,                                     # image file names\n",
    "    'category': labels                                    # class labels\n",
    "})\n",
    "\n",
    "for i in range(10):                                       # iterate over a few samples\n",
    "    print(labels[i])                                      # print label"
   ]
  },
  {
   "cell_type": "code",
   "execution_count": 4,
   "metadata": {},
   "outputs": [
    {
     "data": {
      "text/html": [
       "<div>\n",
       "<style scoped>\n",
       "    .dataframe tbody tr th:only-of-type {\n",
       "        vertical-align: middle;\n",
       "    }\n",
       "\n",
       "    .dataframe tbody tr th {\n",
       "        vertical-align: top;\n",
       "    }\n",
       "\n",
       "    .dataframe thead th {\n",
       "        text-align: right;\n",
       "    }\n",
       "</style>\n",
       "<table border=\"1\" class=\"dataframe\">\n",
       "  <thead>\n",
       "    <tr style=\"text-align: right;\">\n",
       "      <th></th>\n",
       "      <th>category</th>\n",
       "      <th>filename</th>\n",
       "    </tr>\n",
       "  </thead>\n",
       "  <tbody>\n",
       "    <tr>\n",
       "      <th>24995</th>\n",
       "      <td>0</td>\n",
       "      <td>cat.4228.jpg</td>\n",
       "    </tr>\n",
       "    <tr>\n",
       "      <th>24996</th>\n",
       "      <td>1</td>\n",
       "      <td>dog.2454.jpg</td>\n",
       "    </tr>\n",
       "    <tr>\n",
       "      <th>24997</th>\n",
       "      <td>1</td>\n",
       "      <td>dog.8236.jpg</td>\n",
       "    </tr>\n",
       "    <tr>\n",
       "      <th>24998</th>\n",
       "      <td>1</td>\n",
       "      <td>dog.2249.jpg</td>\n",
       "    </tr>\n",
       "    <tr>\n",
       "      <th>24999</th>\n",
       "      <td>1</td>\n",
       "      <td>dog.11217.jpg</td>\n",
       "    </tr>\n",
       "  </tbody>\n",
       "</table>\n",
       "</div>"
      ],
      "text/plain": [
       "      category       filename\n",
       "24995        0   cat.4228.jpg\n",
       "24996        1   dog.2454.jpg\n",
       "24997        1   dog.8236.jpg\n",
       "24998        1   dog.2249.jpg\n",
       "24999        1  dog.11217.jpg"
      ]
     },
     "execution_count": 4,
     "metadata": {},
     "output_type": "execute_result"
    }
   ],
   "source": [
    "df.tail()  # ensure label matches filename"
   ]
  },
  {
   "cell_type": "code",
   "execution_count": 6,
   "metadata": {},
   "outputs": [
    {
     "name": "stdout",
     "output_type": "stream",
     "text": [
      "_________________________________________________________________\n",
      "Layer (type)                 Output Shape              Param #   \n",
      "=================================================================\n",
      "conv2d_14 (Conv2D)           (None, 128, 128, 64)      1792      \n",
      "_________________________________________________________________\n",
      "conv2d_15 (Conv2D)           (None, 128, 128, 64)      36928     \n",
      "_________________________________________________________________\n",
      "max_pooling2d_6 (MaxPooling2 (None, 64, 64, 64)        0         \n",
      "_________________________________________________________________\n",
      "conv2d_16 (Conv2D)           (None, 64, 64, 128)       73856     \n",
      "_________________________________________________________________\n",
      "conv2d_17 (Conv2D)           (None, 64, 64, 128)       147584    \n",
      "_________________________________________________________________\n",
      "max_pooling2d_7 (MaxPooling2 (None, 32, 32, 128)       0         \n",
      "_________________________________________________________________\n",
      "conv2d_18 (Conv2D)           (None, 32, 32, 256)       295168    \n",
      "_________________________________________________________________\n",
      "conv2d_19 (Conv2D)           (None, 32, 32, 256)       590080    \n",
      "_________________________________________________________________\n",
      "conv2d_20 (Conv2D)           (None, 32, 32, 256)       590080    \n",
      "_________________________________________________________________\n",
      "max_pooling2d_8 (MaxPooling2 (None, 16, 16, 256)       0         \n",
      "_________________________________________________________________\n",
      "conv2d_21 (Conv2D)           (None, 16, 16, 512)       1180160   \n",
      "_________________________________________________________________\n",
      "conv2d_22 (Conv2D)           (None, 16, 16, 512)       2359808   \n",
      "_________________________________________________________________\n",
      "conv2d_23 (Conv2D)           (None, 16, 16, 512)       2359808   \n",
      "_________________________________________________________________\n",
      "max_pooling2d_9 (MaxPooling2 (None, 8, 8, 512)         0         \n",
      "_________________________________________________________________\n",
      "conv2d_24 (Conv2D)           (None, 8, 8, 512)         2359808   \n",
      "_________________________________________________________________\n",
      "conv2d_25 (Conv2D)           (None, 8, 8, 512)         2359808   \n",
      "_________________________________________________________________\n",
      "conv2d_26 (Conv2D)           (None, 8, 8, 512)         2359808   \n",
      "_________________________________________________________________\n",
      "max_pooling2d_10 (MaxPooling (None, 4, 4, 512)         0         \n",
      "_________________________________________________________________\n",
      "flatten_2 (Flatten)          (None, 8192)              0         \n",
      "_________________________________________________________________\n",
      "dense_3 (Dense)              (None, 512)               4194816   \n",
      "_________________________________________________________________\n",
      "dropout_2 (Dropout)          (None, 512)               0         \n",
      "_________________________________________________________________\n",
      "dense_4 (Dense)              (None, 1)                 513       \n",
      "=================================================================\n",
      "Total params: 18,910,017\n",
      "Trainable params: 18,910,017\n",
      "Non-trainable params: 0\n",
      "_________________________________________________________________\n"
     ]
    }
   ],
   "source": [
    "img_wh = 128                           # image width and height\n",
    "img_d = 3                              # number of channels, RGB is 3 channels\n",
    "input_shape = (img_wh, img_wh, img_d)  # create shape for width, height, and channels\n",
    "\n",
    "# a note on how padding='same' is calculated. here we use default strides of 1\n",
    "#   out_height = ceil(float(img_wh) / float(strides[1]))\n",
    "#   out_width  = ceil(float(img_wh)) / float(strides[2]))\n",
    "\n",
    "# build a VGG style sequential model\n",
    "model = Sequential([\n",
    "    # block 1\n",
    "    # 2 convolutions, each with:\n",
    "    #    64 3x3 kernels,\n",
    "    #    same padding (as described above),\n",
    "    #    relu activation\n",
    "    # and a maxpooling layer with strides of 2 and a window size of 2x2\n",
    "    Conv2D(64, (3, 3), input_shape=input_shape, padding='same', activation='relu'), \n",
    "    Conv2D(64, (3, 3), activation='relu', padding='same'),\n",
    "    MaxPooling2D(pool_size=(2, 2), strides=(2, 2)),\n",
    "    \n",
    "    # block 2\n",
    "    # 2 convolutions, each with:\n",
    "    #   128 3x3 kernels,\n",
    "    #   same padding (as described above),\n",
    "    #   relu activation\n",
    "    # and a maxpooling layer with strides of 2 and a window size of 2x2\n",
    "    Conv2D(128, (3, 3), activation='relu', padding='same'),\n",
    "    Conv2D(128, (3, 3), activation='relu', padding='same',),\n",
    "    MaxPooling2D(pool_size=(2, 2), strides=(2, 2)),\n",
    "    \n",
    "    # block 3\n",
    "    # 3 convolutions, each with: \n",
    "    #   256 3x3 kernels,\n",
    "    #   same padding (as described above),\n",
    "    #   relu activation\n",
    "    # and a maxpooling layer with strides of 2 and a window size of 2x2\n",
    "    Conv2D(256, (3, 3), activation='relu', padding='same',),\n",
    "    Conv2D(256, (3, 3), activation='relu', padding='same',),\n",
    "    Conv2D(256, (3, 3), activation='relu', padding='same',),\n",
    "    MaxPooling2D(pool_size=(2, 2), strides=(2, 2)),\n",
    "    \n",
    "    # block 4\n",
    "    # 3 convolutions, each with:\n",
    "    #   512 3x3 kernels,\n",
    "    #   same padding (as described above),\n",
    "    #   relu activation\n",
    "    # and a maxpooling layer with strides of 2 and a window size of 2x2\n",
    "    Conv2D(512, (3, 3), activation='relu', padding='same',),\n",
    "    Conv2D(512, (3, 3), activation='relu', padding='same',),\n",
    "    Conv2D(512, (3, 3), activation='relu', padding='same',),\n",
    "    MaxPooling2D(pool_size=(2, 2), strides=(2, 2)),\n",
    "    \n",
    "    # block 5\n",
    "    # 3 convolutions, each with:\n",
    "    #   512 3x3 kernels,\n",
    "    #   same padding (as described above),\n",
    "    #   relu activation\n",
    "    # and a maxpooling layer with strides of 2 and a window size of 2x2\n",
    "    Conv2D(512, (3, 3), activation='relu', padding='same',),\n",
    "    Conv2D(512, (3, 3), activation='relu', padding='same',),\n",
    "    Conv2D(512, (3, 3), activation='relu', padding='same',),\n",
    "    MaxPooling2D(pool_size=(2, 2), strides=(2, 2)),\n",
    "    \n",
    "    # top \n",
    "    Flatten(),                      # flatten into 1D for fully connected layers\n",
    "    Dense(512, activation='relu'),  # fully connected layer with activation relu \n",
    "    Dropout(0.5),                   # regularization to prevent overfitting\n",
    "    Dense(1, activation='sigmoid')  # final sigmoid for classification\n",
    "])\n",
    "\n",
    "# compile with model with binary cross entropy, as this is a binary classifcation problem,\n",
    "# and use stochastic gradient descent with a learning rate of 0.0001\n",
    "# and a momentum of 0.9 to help accelerate gradient in the right direction\n",
    "# and meausure fitness by accuracy\n",
    "model.compile(loss='binary_crossentropy', optimizer=SGD(lr=1e-3, momentum=0.9, nesterov=True), metrics=['accuracy'])\n",
    "model.summary()"
   ]
  },
  {
   "cell_type": "code",
   "execution_count": null,
   "metadata": {},
   "outputs": [],
   "source": []
  },
  {
   "cell_type": "code",
   "execution_count": 7,
   "metadata": {},
   "outputs": [],
   "source": [
    "train_df, validate_df = train_test_split(df, test_size=0.20, random_state=42)  # split the training in train/test\n",
    "train_df = train_df.reset_index(drop=True)                                     # remove index column\n",
    "validate_df = validate_df.reset_index(drop=True)                               # remove index column "
   ]
  },
  {
   "cell_type": "code",
   "execution_count": 8,
   "metadata": {},
   "outputs": [
    {
     "name": "stdout",
     "output_type": "stream",
     "text": [
      "20000\n",
      "5000\n"
     ]
    }
   ],
   "source": [
    "total_train = train_df.shape[0]        # get the total number of training images\n",
    "total_validate = validate_df.shape[0]  # get the total number of validation images\n",
    "\n",
    "print(total_train)                     # print number of training images\n",
    "print(total_validate)                  # print number of validation images"
   ]
  },
  {
   "cell_type": "code",
   "execution_count": 9,
   "metadata": {},
   "outputs": [
    {
     "name": "stdout",
     "output_type": "stream",
     "text": [
      "Found 20000 images belonging to 2 classes.\n"
     ]
    }
   ],
   "source": [
    "train_datagen = ImageDataGenerator(  # generates images with augmentations specified below\n",
    "    rotation_range=15,               # rotate image 15 degrees\n",
    "    rescale=1./255,                  # target values between 0 and 1\n",
    "    shear_range=0.1,                 # counter-clockwise rotation\n",
    "    zoom_range=0.2,                  # zoom into image\n",
    "    horizontal_flip=True,            # allow horizontal flip\n",
    "    width_shift_range=0.1,           # shift width\n",
    "    height_shift_range=0.1           # shift height\n",
    ")\n",
    "\n",
    "# parameters\n",
    "flow_training_dir = training_dir+'/' # directory to flow images from\n",
    "img_dim = (img_wh, img_wh)           # set image dimensions without channels\n",
    "batch_size = 15                      # number of images to feed model at a time\n",
    "\n",
    "# create the image flow for training\n",
    "train_generator = train_datagen.flow_from_dataframe(\n",
    "    train_df,                        # dataframe of images and labels\n",
    "    flow_training_dir,               # directory to flow from\n",
    "    x_col='filename',                # specifying name of image identifier in dataframe\n",
    "    y_col='category',                # specifying name of label identifier in dataframe\n",
    "    target_size=img_dim,             # image dimensions without channels\n",
    "    class_mode='binary',             # binary classification: cat/dog\n",
    "    batch_size=batch_size            # number of images to process at a time\n",
    ")"
   ]
  },
  {
   "cell_type": "code",
   "execution_count": 10,
   "metadata": {},
   "outputs": [
    {
     "name": "stdout",
     "output_type": "stream",
     "text": [
      "Found 5000 images belonging to 2 classes.\n"
     ]
    }
   ],
   "source": [
    "validation_datagen = ImageDataGenerator(rescale=1./255)  # target values between 0 and 1\n",
    "\n",
    "# create image flow for validation\n",
    "validation_generator = validation_datagen.flow_from_dataframe(\n",
    "    validate_df,                     # datagframe of images and labels\n",
    "    flow_training_dir,               # directory to flow from\n",
    "    x_col='filename',                # specifying name of image identifier in dataframe\n",
    "    y_col='category',                # specifying name of label identifier in dataframe\n",
    "    target_size=img_dim,             # image dimensions without channels\n",
    "    class_mode='binary',             # binary classification: cat/dog\n",
    "    batch_size=batch_size            # number of images to process at a time\n",
    ")"
   ]
  },
  {
   "cell_type": "code",
   "execution_count": 11,
   "metadata": {
    "scrolled": true
   },
   "outputs": [
    {
     "name": "stdout",
     "output_type": "stream",
     "text": [
      "WARNING:tensorflow:From /usr/local/lib/python3.5/dist-packages/tensorflow/python/ops/math_ops.py:3066: to_int32 (from tensorflow.python.ops.math_ops) is deprecated and will be removed in a future version.\n",
      "Instructions for updating:\n",
      "Use tf.cast instead.\n",
      "Epoch 1/25\n",
      "1333/1333 [==============================] - 766s 574ms/step - loss: 0.6932 - acc: 0.4987 - val_loss: 0.6930 - val_acc: 0.4949\n",
      "Epoch 2/25\n",
      "1333/1333 [==============================] - 329s 247ms/step - loss: 0.6927 - acc: 0.5155 - val_loss: 0.6920 - val_acc: 0.4969\n",
      "Epoch 3/25\n",
      "1333/1333 [==============================] - 329s 247ms/step - loss: 0.6898 - acc: 0.5368 - val_loss: 0.6785 - val_acc: 0.5896\n",
      "Epoch 4/25\n",
      "1333/1333 [==============================] - 329s 247ms/step - loss: 0.6786 - acc: 0.5725 - val_loss: 0.6604 - val_acc: 0.6142\n",
      "Epoch 5/25\n",
      "1333/1333 [==============================] - 328s 246ms/step - loss: 0.6662 - acc: 0.5957 - val_loss: 0.6457 - val_acc: 0.6100\n",
      "Epoch 6/25\n",
      "1333/1333 [==============================] - 327s 246ms/step - loss: 0.6463 - acc: 0.6154 - val_loss: 0.6068 - val_acc: 0.6560\n",
      "Epoch 7/25\n",
      "1333/1333 [==============================] - 328s 246ms/step - loss: 0.6284 - acc: 0.6349 - val_loss: 0.6163 - val_acc: 0.6528\n",
      "Epoch 8/25\n",
      "1333/1333 [==============================] - 327s 246ms/step - loss: 0.6099 - acc: 0.6609 - val_loss: 0.5769 - val_acc: 0.6945\n",
      "Epoch 9/25\n",
      "1333/1333 [==============================] - 328s 246ms/step - loss: 0.5955 - acc: 0.6835 - val_loss: 0.5532 - val_acc: 0.7151\n",
      "Epoch 10/25\n",
      "1333/1333 [==============================] - 328s 246ms/step - loss: 0.5763 - acc: 0.6984 - val_loss: 0.5324 - val_acc: 0.7300\n",
      "Epoch 11/25\n",
      "1333/1333 [==============================] - 328s 246ms/step - loss: 0.5590 - acc: 0.7130 - val_loss: 0.5182 - val_acc: 0.7356\n",
      "Epoch 12/25\n",
      "1333/1333 [==============================] - 329s 247ms/step - loss: 0.5390 - acc: 0.7241 - val_loss: 0.5055 - val_acc: 0.7521\n",
      "Epoch 13/25\n",
      "1333/1333 [==============================] - 329s 247ms/step - loss: 0.5213 - acc: 0.7380 - val_loss: 0.4895 - val_acc: 0.7641\n",
      "Epoch 14/25\n",
      "1333/1333 [==============================] - 328s 246ms/step - loss: 0.4938 - acc: 0.7572 - val_loss: 0.4132 - val_acc: 0.8110\n",
      "Epoch 15/25\n",
      "1333/1333 [==============================] - 328s 246ms/step - loss: 0.4645 - acc: 0.7803 - val_loss: 0.3895 - val_acc: 0.8283\n",
      "Epoch 16/25\n",
      "1333/1333 [==============================] - 329s 247ms/step - loss: 0.4298 - acc: 0.7990 - val_loss: 0.3667 - val_acc: 0.8335\n",
      "Epoch 17/25\n",
      "1333/1333 [==============================] - 329s 247ms/step - loss: 0.4058 - acc: 0.8111 - val_loss: 0.3335 - val_acc: 0.8502\n",
      "Epoch 18/25\n",
      "1333/1333 [==============================] - 329s 247ms/step - loss: 0.3762 - acc: 0.8260 - val_loss: 0.3203 - val_acc: 0.8538\n",
      "Epoch 19/25\n",
      "1333/1333 [==============================] - 329s 247ms/step - loss: 0.3439 - acc: 0.8492 - val_loss: 0.2921 - val_acc: 0.8730\n",
      "Epoch 20/25\n",
      "1333/1333 [==============================] - 329s 247ms/step - loss: 0.3189 - acc: 0.8616 - val_loss: 0.2755 - val_acc: 0.8794\n",
      "Epoch 21/25\n",
      "1333/1333 [==============================] - 329s 247ms/step - loss: 0.3002 - acc: 0.8698 - val_loss: 0.2573 - val_acc: 0.8947\n",
      "Epoch 22/25\n",
      "1333/1333 [==============================] - 331s 249ms/step - loss: 0.2792 - acc: 0.8780 - val_loss: 0.2206 - val_acc: 0.9043\n",
      "Epoch 23/25\n",
      "1333/1333 [==============================] - 328s 246ms/step - loss: 0.2574 - acc: 0.8906 - val_loss: 0.2252 - val_acc: 0.9021\n",
      "Epoch 24/25\n",
      "1333/1333 [==============================] - 326s 245ms/step - loss: 0.2391 - acc: 0.8983 - val_loss: 0.2036 - val_acc: 0.9159\n",
      "Epoch 25/25\n",
      "1333/1333 [==============================] - 326s 244ms/step - loss: 0.2192 - acc: 0.9074 - val_loss: 0.1910 - val_acc: 0.9240\n"
     ]
    }
   ],
   "source": [
    "nb_epochs = 25                                     # number of iterations\n",
    "history = model.fit_generator(                     # start fitting the data!\n",
    "    train_generator,                               # training image data generator\n",
    "    epochs=nb_epochs,                              # number of iterations\n",
    "    validation_data=validation_generator,          # validation image data generator\n",
    "    validation_steps=total_validate//batch_size,   # number of validation steps\n",
    "    steps_per_epoch=total_train//batch_size        # number of steps per epoch\n",
    ")"
   ]
  },
  {
   "cell_type": "code",
   "execution_count": 12,
   "metadata": {},
   "outputs": [
    {
     "name": "stdout",
     "output_type": "stream",
     "text": [
      "Test: accuracy = 0.922367  ;  loss = 0.193437 \n"
     ]
    }
   ],
   "source": [
    "loss, accuracy = model.evaluate_generator(validation_generator, total_validate//batch_size, workers=12)\n",
    "print(\"Test: accuracy = %f  ;  loss = %f \" % (accuracy, loss))"
   ]
  },
  {
   "cell_type": "code",
   "execution_count": 15,
   "metadata": {},
   "outputs": [
    {
     "data": {
      "image/png": "[encoded data removed]",
      "text/plain": [
       "<Figure size 1080x360 with 2 Axes>"
      ]
     },
     "metadata": {
      "needs_background": "light"
     },
     "output_type": "display_data"
    }
   ],
   "source": [
    "def plot_model_history(model_history, acc='acc', val_acc='val_acc'):\n",
    "    fig, axs = plt.subplots(1,2,figsize=(15,5))\n",
    "    axs[0].plot(range(1,len(model_history.history[acc])+1),model_history.history[acc])\n",
    "    axs[0].plot(range(1,len(model_history.history[val_acc])+1),model_history.history[val_acc])\n",
    "    axs[0].set_title('Model Accuracy')\n",
    "    axs[0].set_ylabel('Accuracy')\n",
    "    axs[0].set_xlabel('Epoch')\n",
    "    axs[0].set_xticks(np.arange(1,len(model_history.history[acc])+1),len(model_history.history[acc])/10)\n",
    "    axs[0].legend(['train', 'val'], loc='best')\n",
    "    axs[1].plot(range(1,len(model_history.history['loss'])+1),model_history.history['loss'])\n",
    "    axs[1].plot(range(1,len(model_history.history['val_loss'])+1),model_history.history['val_loss'])\n",
    "    axs[1].set_title('Model Loss')\n",
    "    axs[1].set_ylabel('Loss')\n",
    "    axs[1].set_xlabel('Epoch')\n",
    "    axs[1].set_xticks(np.arange(1,len(model_history.history['loss'])+1),len(model_history.history['loss'])/10)\n",
    "    axs[1].legend(['train', 'val'], loc='best')\n",
    "    plt.show()\n",
    "    \n",
    "plot_model_history(history)"
   ]
  },
  {
   "cell_type": "code",
   "execution_count": null,
   "metadata": {},
   "outputs": [],
   "source": []
  }
 ],
 "metadata": {
  "kernelspec": {
   "display_name": "Python 3",
   "language": "python",
   "name": "python3"
  },
  "language_info": {
   "codemirror_mode": {
    "name": "ipython",
    "version": 3
   },
   "file_extension": ".py",
   "mimetype": "text/x-python",
   "name": "python",
   "nbconvert_exporter": "python",
   "pygments_lexer": "ipython3",
   "version": "3.5.3"
  }
 },
 "nbformat": 4,
 "nbformat_minor": 2
}
