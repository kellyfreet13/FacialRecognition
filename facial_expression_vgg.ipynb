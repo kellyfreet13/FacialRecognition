{
 "cells": [
  {
   "cell_type": "code",
   "execution_count": 1,
   "metadata": {},
   "outputs": [
    {
     "name": "stderr",
     "output_type": "stream",
     "text": [
      "Using TensorFlow backend.\n"
     ]
    }
   ],
   "source": [
    "import keras\n",
    "from keras.models import Sequential\n",
    "from keras.layers import Dense, Activation, Dropout, Flatten, GlobalMaxPooling2D\n",
    "from keras.layers import Conv2D\n",
    "from keras.layers import MaxPooling2D\n",
    "from keras.layers import ZeroPadding2D\n",
    "from keras.optimizers import SGD\n",
    "\n",
    "from keras.preprocessing.image import ImageDataGenerator, load_img\n",
    "from keras.applications.vgg16 import VGG16\n",
    "\n",
    "from sklearn.model_selection import train_test_split\n",
    "\n",
    "import numpy as np\n",
    "import random\n",
    "import matplotlib.pyplot as plt"
   ]
  },
  {
   "cell_type": "code",
   "execution_count": 55,
   "metadata": {},
   "outputs": [
    {
     "name": "stdout",
     "output_type": "stream",
     "text": [
      "_________________________________________________________________\n",
      "Layer (type)                 Output Shape              Param #   \n",
      "=================================================================\n",
      "conv2d_21 (Conv2D)           (None, 48, 48, 64)        1792      \n",
      "_________________________________________________________________\n",
      "conv2d_22 (Conv2D)           (None, 48, 48, 64)        36928     \n",
      "_________________________________________________________________\n",
      "max_pooling2d_9 (MaxPooling2 (None, 24, 24, 64)        0         \n",
      "_________________________________________________________________\n",
      "conv2d_23 (Conv2D)           (None, 24, 24, 128)       73856     \n",
      "_________________________________________________________________\n",
      "conv2d_24 (Conv2D)           (None, 24, 24, 128)       147584    \n",
      "_________________________________________________________________\n",
      "max_pooling2d_10 (MaxPooling (None, 12, 12, 128)       0         \n",
      "_________________________________________________________________\n",
      "conv2d_25 (Conv2D)           (None, 12, 12, 256)       295168    \n",
      "_________________________________________________________________\n",
      "conv2d_26 (Conv2D)           (None, 12, 12, 256)       590080    \n",
      "_________________________________________________________________\n",
      "conv2d_27 (Conv2D)           (None, 12, 12, 256)       590080    \n",
      "_________________________________________________________________\n",
      "max_pooling2d_11 (MaxPooling (None, 6, 6, 256)         0         \n",
      "_________________________________________________________________\n",
      "conv2d_28 (Conv2D)           (None, 6, 6, 512)         1180160   \n",
      "_________________________________________________________________\n",
      "conv2d_29 (Conv2D)           (None, 6, 6, 512)         2359808   \n",
      "_________________________________________________________________\n",
      "conv2d_30 (Conv2D)           (None, 6, 6, 512)         2359808   \n",
      "_________________________________________________________________\n",
      "max_pooling2d_12 (MaxPooling (None, 3, 3, 512)         0         \n",
      "_________________________________________________________________\n",
      "global_max_pooling2d_3 (Glob (None, 512)               0         \n",
      "_________________________________________________________________\n",
      "dense_5 (Dense)              (None, 256)               131328    \n",
      "_________________________________________________________________\n",
      "dropout_3 (Dropout)          (None, 256)               0         \n",
      "_________________________________________________________________\n",
      "dense_6 (Dense)              (None, 3)                 771       \n",
      "=================================================================\n",
      "Total params: 7,767,363\n",
      "Trainable params: 7,767,363\n",
      "Non-trainable params: 0\n",
      "_________________________________________________________________\n"
     ]
    }
   ],
   "source": [
    "input_shape_1d = (48, 48, 3)\n",
    "nb_classes = 3\n",
    "\n",
    "model = Sequential([\n",
    "    # block 1\n",
    "    Conv2D(64, (3, 3), input_shape=input_shape_1d, padding='same', activation='relu'),\n",
    "    Conv2D(64, (3, 3), activation='relu', padding='same'),\n",
    "    MaxPooling2D(pool_size=(2, 2), strides=(2, 2)),\n",
    "    \n",
    "    # block 2\n",
    "    Conv2D(128, (3, 3), activation='relu', padding='same'),\n",
    "    Conv2D(128, (3, 3), activation='relu', padding='same',),\n",
    "    MaxPooling2D(pool_size=(2, 2), strides=(2, 2)),\n",
    "    \n",
    "    # block 3\n",
    "    Conv2D(256, (3, 3), activation='relu', padding='same',),\n",
    "    Conv2D(256, (3, 3), activation='relu', padding='same',),\n",
    "    Conv2D(256, (3, 3), activation='relu', padding='same',),\n",
    "    MaxPooling2D(pool_size=(2, 2), strides=(2, 2)),\n",
    "    \n",
    "    # block 4\n",
    "    Conv2D(512, (3, 3), activation='relu', padding='same',),\n",
    "    Conv2D(512, (3, 3), activation='relu', padding='same',),\n",
    "    Conv2D(512, (3, 3), activation='relu', padding='same',),\n",
    "    MaxPooling2D(pool_size=(2, 2), strides=(2, 2)),\n",
    "    \n",
    "    # block 5\n",
    "#     Conv2D(512, (3, 3), activation='relu', padding='same',),\n",
    "#     Conv2D(512, (3, 3), activation='relu', padding='same',),\n",
    "#     Conv2D(512, (3, 3), activation='relu', padding='same',),\n",
    "#     MaxPooling2D(pool_size=(2, 2), strides=(2, 2)),\n",
    "    \n",
    "    # top \n",
    "    #Flatten(),\n",
    "    GlobalMaxPooling2D(),\n",
    "    Dense(256, activation='relu'),\n",
    "    Dropout(0.5),\n",
    "    #Dense(256, activation='relu'),\n",
    "    Dense(nb_classes, activation='softmax')\n",
    "])\n",
    "\n",
    "model.summary()"
   ]
  },
  {
   "cell_type": "code",
   "execution_count": 3,
   "metadata": {},
   "outputs": [],
   "source": [
    "################# JUNK YARD #################\n",
    "\n",
    "# split up - setup indexing and do the split\n",
    "# train_labels = labels[:nb_training_samples]\n",
    "# test_labels = labels[nb_training_samples:nb_total_data]\n",
    "        \n",
    "# convert to keras friendy format\n",
    "# train_labels = keras.utils.to_categorical(train_labels, num_classes=nb_classes)\n",
    "# test_labels = keras.utils.to_categorical(test_labels, num_classes=nb_classes)\n",
    "\n",
    "# just for testing on all data...is that a thing?\n",
    "#labels = keras.utils.to_categorical(labels, num_classes=nb_classes)"
   ]
  },
  {
   "cell_type": "code",
   "execution_count": 4,
   "metadata": {},
   "outputs": [],
   "source": [
    "import pandas as pd\n",
    "import scipy.misc\n",
    "\n",
    "# some constants\n",
    "\n",
    "# data directories\n",
    "train_dir = '../../input'\n",
    "images_csv = train_dir+'/train_data.csv'\n",
    "labels_csv = train_dir+'/train_target.csv'\n",
    "train_images_dir = train_dir+'/train_imgs'\n",
    "\n",
    "# array of 16.2k 48x48 image arrays\n",
    "nb_total_data = 16175\n",
    "img_wh = 48\n",
    "nb_classes = 3"
   ]
  },
  {
   "cell_type": "code",
   "execution_count": 5,
   "metadata": {},
   "outputs": [
    {
     "data": {
      "text/plain": [
       "['test_data.csv',\n",
       " 'train_imgs',\n",
       " 'train_target.csv',\n",
       " 'sample-submission.csv',\n",
       " 'train_data.csv']"
      ]
     },
     "execution_count": 5,
     "metadata": {},
     "output_type": "execute_result"
    }
   ],
   "source": [
    "import os\n",
    "os.listdir(train_dir)"
   ]
  },
  {
   "cell_type": "code",
   "execution_count": 6,
   "metadata": {},
   "outputs": [
    {
     "name": "stdout",
     "output_type": "stream",
     "text": [
      "(16175,)\n",
      "1 type:  <class 'str'>\n",
      "1 type:  <class 'str'>\n",
      "0 type:  <class 'str'>\n",
      "1 type:  <class 'str'>\n",
      "1 type:  <class 'str'>\n",
      "2 type:  <class 'str'>\n",
      "0 type:  <class 'str'>\n",
      "1 type:  <class 'str'>\n",
      "1 type:  <class 'str'>\n",
      "0 type:  <class 'str'>\n",
      "1 type:  <class 'str'>\n",
      "2 type:  <class 'str'>\n",
      "2 type:  <class 'str'>\n",
      "2 type:  <class 'str'>\n",
      "0 type:  <class 'str'>\n"
     ]
    }
   ],
   "source": [
    "################# READ IN CLASS LABELS #################\n",
    "\n",
    "labels_df = pd.read_csv(labels_csv, header=None)\n",
    "labels = np.zeros((nb_total_data,), dtype='object')\n",
    "\n",
    "# iterate over rows and reshape as 2304x1 array to 48x48 array\n",
    "for i, row in labels_df.iterrows():\n",
    "    labels[i] = str(row[0])\n",
    "\n",
    "print(labels.shape)\n",
    "for i in range(15):\n",
    "    print(labels[i], 'type: ', type(labels[i]))"
   ]
  },
  {
   "cell_type": "code",
   "execution_count": 10,
   "metadata": {},
   "outputs": [
    {
     "name": "stderr",
     "output_type": "stream",
     "text": [
      "/usr/local/lib/python3.5/dist-packages/ipykernel_launcher.py:15: DeprecationWarning: `imsave` is deprecated!\n",
      "`imsave` is deprecated in SciPy 1.0.0, and will be removed in 1.2.0.\n",
      "Use ``imageio.imwrite`` instead.\n",
      "  from ipykernel import kernelapp as app\n"
     ]
    }
   ],
   "source": [
    "################# SAVE CSV ARRAYS TO IMAGES #################\n",
    "\n",
    "# read csv\n",
    "images_df = pd.read_csv(images_csv, header=None)\n",
    "\n",
    "# make sure file name and class label matches up, os.listdir was giving issues\n",
    "filenames = []\n",
    "\n",
    "# iterate over rows and reshape as 2304x1 array to 48x48 array\n",
    "for i, row in images_df.iterrows():\n",
    "    img = np.asarray(row).reshape((48,48))\n",
    "    filename = labels[i]+'.'+str(i)+'.jpg'\n",
    "    filenames.append(filename)\n",
    "    save_dir_filename = train_images_dir+'/'+filename\n",
    "    scipy.misc.imsave(save_dir_filename, img)"
   ]
  },
  {
   "cell_type": "code",
   "execution_count": 42,
   "metadata": {},
   "outputs": [
    {
     "data": {
      "text/html": [
       "<div>\n",
       "<style scoped>\n",
       "    .dataframe tbody tr th:only-of-type {\n",
       "        vertical-align: middle;\n",
       "    }\n",
       "\n",
       "    .dataframe tbody tr th {\n",
       "        vertical-align: top;\n",
       "    }\n",
       "\n",
       "    .dataframe thead th {\n",
       "        text-align: right;\n",
       "    }\n",
       "</style>\n",
       "<table border=\"1\" class=\"dataframe\">\n",
       "  <thead>\n",
       "    <tr style=\"text-align: right;\">\n",
       "      <th></th>\n",
       "      <th>0</th>\n",
       "      <th>1</th>\n",
       "      <th>2</th>\n",
       "      <th>3</th>\n",
       "      <th>4</th>\n",
       "      <th>5</th>\n",
       "      <th>6</th>\n",
       "      <th>7</th>\n",
       "      <th>8</th>\n",
       "      <th>9</th>\n",
       "      <th>...</th>\n",
       "      <th>2294</th>\n",
       "      <th>2295</th>\n",
       "      <th>2296</th>\n",
       "      <th>2297</th>\n",
       "      <th>2298</th>\n",
       "      <th>2299</th>\n",
       "      <th>2300</th>\n",
       "      <th>2301</th>\n",
       "      <th>2302</th>\n",
       "      <th>2303</th>\n",
       "    </tr>\n",
       "  </thead>\n",
       "  <tbody>\n",
       "    <tr>\n",
       "      <th>0</th>\n",
       "      <td>146</td>\n",
       "      <td>146</td>\n",
       "      <td>145</td>\n",
       "      <td>145</td>\n",
       "      <td>145</td>\n",
       "      <td>142</td>\n",
       "      <td>140</td>\n",
       "      <td>114</td>\n",
       "      <td>126</td>\n",
       "      <td>128</td>\n",
       "      <td>...</td>\n",
       "      <td>103</td>\n",
       "      <td>103</td>\n",
       "      <td>93</td>\n",
       "      <td>87</td>\n",
       "      <td>73</td>\n",
       "      <td>65</td>\n",
       "      <td>65</td>\n",
       "      <td>76</td>\n",
       "      <td>85</td>\n",
       "      <td>81</td>\n",
       "    </tr>\n",
       "    <tr>\n",
       "      <th>1</th>\n",
       "      <td>9</td>\n",
       "      <td>12</td>\n",
       "      <td>34</td>\n",
       "      <td>72</td>\n",
       "      <td>98</td>\n",
       "      <td>110</td>\n",
       "      <td>113</td>\n",
       "      <td>116</td>\n",
       "      <td>126</td>\n",
       "      <td>134</td>\n",
       "      <td>...</td>\n",
       "      <td>141</td>\n",
       "      <td>121</td>\n",
       "      <td>131</td>\n",
       "      <td>118</td>\n",
       "      <td>93</td>\n",
       "      <td>74</td>\n",
       "      <td>31</td>\n",
       "      <td>7</td>\n",
       "      <td>4</td>\n",
       "      <td>9</td>\n",
       "    </tr>\n",
       "    <tr>\n",
       "      <th>2</th>\n",
       "      <td>255</td>\n",
       "      <td>129</td>\n",
       "      <td>62</td>\n",
       "      <td>59</td>\n",
       "      <td>45</td>\n",
       "      <td>31</td>\n",
       "      <td>29</td>\n",
       "      <td>26</td>\n",
       "      <td>32</td>\n",
       "      <td>23</td>\n",
       "      <td>...</td>\n",
       "      <td>122</td>\n",
       "      <td>130</td>\n",
       "      <td>138</td>\n",
       "      <td>113</td>\n",
       "      <td>43</td>\n",
       "      <td>26</td>\n",
       "      <td>16</td>\n",
       "      <td>12</td>\n",
       "      <td>14</td>\n",
       "      <td>16</td>\n",
       "    </tr>\n",
       "    <tr>\n",
       "      <th>3</th>\n",
       "      <td>217</td>\n",
       "      <td>191</td>\n",
       "      <td>222</td>\n",
       "      <td>176</td>\n",
       "      <td>150</td>\n",
       "      <td>201</td>\n",
       "      <td>157</td>\n",
       "      <td>72</td>\n",
       "      <td>59</td>\n",
       "      <td>74</td>\n",
       "      <td>...</td>\n",
       "      <td>223</td>\n",
       "      <td>229</td>\n",
       "      <td>114</td>\n",
       "      <td>70</td>\n",
       "      <td>111</td>\n",
       "      <td>95</td>\n",
       "      <td>71</td>\n",
       "      <td>109</td>\n",
       "      <td>159</td>\n",
       "      <td>191</td>\n",
       "    </tr>\n",
       "    <tr>\n",
       "      <th>4</th>\n",
       "      <td>19</td>\n",
       "      <td>11</td>\n",
       "      <td>4</td>\n",
       "      <td>37</td>\n",
       "      <td>62</td>\n",
       "      <td>78</td>\n",
       "      <td>98</td>\n",
       "      <td>113</td>\n",
       "      <td>121</td>\n",
       "      <td>126</td>\n",
       "      <td>...</td>\n",
       "      <td>152</td>\n",
       "      <td>149</td>\n",
       "      <td>156</td>\n",
       "      <td>161</td>\n",
       "      <td>160</td>\n",
       "      <td>158</td>\n",
       "      <td>160</td>\n",
       "      <td>177</td>\n",
       "      <td>187</td>\n",
       "      <td>181</td>\n",
       "    </tr>\n",
       "  </tbody>\n",
       "</table>\n",
       "<p>5 rows × 2304 columns</p>\n",
       "</div>"
      ],
      "text/plain": [
       "   0     1     2     3     4     5     6     7     8     9     ...  2294  \\\n",
       "0   146   146   145   145   145   142   140   114   126   128  ...   103   \n",
       "1     9    12    34    72    98   110   113   116   126   134  ...   141   \n",
       "2   255   129    62    59    45    31    29    26    32    23  ...   122   \n",
       "3   217   191   222   176   150   201   157    72    59    74  ...   223   \n",
       "4    19    11     4    37    62    78    98   113   121   126  ...   152   \n",
       "\n",
       "   2295  2296  2297  2298  2299  2300  2301  2302  2303  \n",
       "0   103    93    87    73    65    65    76    85    81  \n",
       "1   121   131   118    93    74    31     7     4     9  \n",
       "2   130   138   113    43    26    16    12    14    16  \n",
       "3   229   114    70   111    95    71   109   159   191  \n",
       "4   149   156   161   160   158   160   177   187   181  \n",
       "\n",
       "[5 rows x 2304 columns]"
      ]
     },
     "execution_count": 42,
     "metadata": {},
     "output_type": "execute_result"
    }
   ],
   "source": [
    "images_df.head()"
   ]
  },
  {
   "cell_type": "code",
   "execution_count": null,
   "metadata": {},
   "outputs": [],
   "source": []
  },
  {
   "cell_type": "code",
   "execution_count": 12,
   "metadata": {},
   "outputs": [
    {
     "name": "stdout",
     "output_type": "stream",
     "text": [
      "1\n",
      "1\n",
      "0\n",
      "1\n",
      "1\n",
      "2\n",
      "0\n",
      "1\n",
      "1\n",
      "0\n",
      "1\n",
      "2\n",
      "2\n",
      "2\n",
      "0\n"
     ]
    },
    {
     "data": {
      "text/html": [
       "<div>\n",
       "<style scoped>\n",
       "    .dataframe tbody tr th:only-of-type {\n",
       "        vertical-align: middle;\n",
       "    }\n",
       "\n",
       "    .dataframe tbody tr th {\n",
       "        vertical-align: top;\n",
       "    }\n",
       "\n",
       "    .dataframe thead th {\n",
       "        text-align: right;\n",
       "    }\n",
       "</style>\n",
       "<table border=\"1\" class=\"dataframe\">\n",
       "  <thead>\n",
       "    <tr style=\"text-align: right;\">\n",
       "      <th></th>\n",
       "      <th>category</th>\n",
       "      <th>filename</th>\n",
       "    </tr>\n",
       "  </thead>\n",
       "  <tbody>\n",
       "    <tr>\n",
       "      <th>0</th>\n",
       "      <td>1</td>\n",
       "      <td>1.0.jpg</td>\n",
       "    </tr>\n",
       "    <tr>\n",
       "      <th>1</th>\n",
       "      <td>1</td>\n",
       "      <td>1.1.jpg</td>\n",
       "    </tr>\n",
       "    <tr>\n",
       "      <th>2</th>\n",
       "      <td>0</td>\n",
       "      <td>0.2.jpg</td>\n",
       "    </tr>\n",
       "    <tr>\n",
       "      <th>3</th>\n",
       "      <td>1</td>\n",
       "      <td>1.3.jpg</td>\n",
       "    </tr>\n",
       "    <tr>\n",
       "      <th>4</th>\n",
       "      <td>1</td>\n",
       "      <td>1.4.jpg</td>\n",
       "    </tr>\n",
       "  </tbody>\n",
       "</table>\n",
       "</div>"
      ],
      "text/plain": [
       "  category filename\n",
       "0        1  1.0.jpg\n",
       "1        1  1.1.jpg\n",
       "2        0  0.2.jpg\n",
       "3        1  1.3.jpg\n",
       "4        1  1.4.jpg"
      ]
     },
     "execution_count": 12,
     "metadata": {},
     "output_type": "execute_result"
    }
   ],
   "source": [
    "# testing no split\n",
    "df = pd.DataFrame({\n",
    "    'filename': filenames,\n",
    "    'category': labels\n",
    "})\n",
    "\n",
    "for i in range(15):\n",
    "    print(labels[i])    \n",
    "df.head()"
   ]
  },
  {
   "cell_type": "code",
   "execution_count": 13,
   "metadata": {},
   "outputs": [
    {
     "name": "stdout",
     "output_type": "stream",
     "text": [
      "16175\n",
      "(16175,)\n"
     ]
    }
   ],
   "source": [
    "print(len(filenames))\n",
    "print(labels.shape)"
   ]
  },
  {
   "cell_type": "code",
   "execution_count": 56,
   "metadata": {},
   "outputs": [
    {
     "data": {
      "text/plain": [
       "<matplotlib.image.AxesImage at 0x7f3ad064dd30>"
      ]
     },
     "execution_count": 56,
     "metadata": {},
     "output_type": "execute_result"
    },
    {
     "data": {
      "image/png": "[encoded data removed]",
      "text/plain": [
       "<Figure size 432x288 with 1 Axes>"
      ]
     },
     "metadata": {
      "needs_background": "light"
     },
     "output_type": "display_data"
    }
   ],
   "source": [
    "sample = random.choice(filenames)\n",
    "image = load_img(train_images_dir+'/'+sample)\n",
    "plt.imshow(image)"
   ]
  },
  {
   "cell_type": "code",
   "execution_count": 30,
   "metadata": {},
   "outputs": [],
   "source": [
    "# split train/test\n",
    "train_df, validate_df = train_test_split(df, test_size=0.20, random_state=42)\n",
    "train_df = train_df.reset_index(drop=True)        # remove index column\n",
    "validate_df = validate_df.reset_index(drop=True)  # remove index column"
   ]
  },
  {
   "cell_type": "code",
   "execution_count": 57,
   "metadata": {},
   "outputs": [
    {
     "name": "stdout",
     "output_type": "stream",
     "text": [
      "12940\n",
      "3235\n"
     ]
    }
   ],
   "source": [
    "total_train = train_df.shape[0]        # get the total number of training images\n",
    "total_validate = validate_df.shape[0]  # get the total number of validation images\n",
    "\n",
    "print(total_train)                     # print number of training images\n",
    "print(total_validate)                  # print number of validation images"
   ]
  },
  {
   "cell_type": "code",
   "execution_count": 63,
   "metadata": {},
   "outputs": [
    {
     "name": "stdout",
     "output_type": "stream",
     "text": [
      "Found 12940 images belonging to 3 classes.\n"
     ]
    }
   ],
   "source": [
    "train_datagen = ImageDataGenerator(  # generates images with augmentations specified below\n",
    "    rotation_range=15,               # rotate image 15 degrees\n",
    "    rescale=1./255,                  # target values between 0 and 1\n",
    "    shear_range=0.1,                 # counter-clockwise rotation\n",
    "    zoom_range=0.2,                  # zoom into image\n",
    "    horizontal_flip=True,            # allow horizontal flip\n",
    "    width_shift_range=0.1,           # shift width\n",
    "    height_shift_range=0.1           # shift height\n",
    ")\n",
    "\n",
    "# parameters\n",
    "flow_training_dir = train_images_dir+'/' # directory to flow images from\n",
    "img_dim = (img_wh, img_wh)           # set image dimensions without channels\n",
    "batch_size = 15                      # number of images to feed model at a time\n",
    "\n",
    "# create the image flow for training\n",
    "train_generator = train_datagen.flow_from_dataframe(\n",
    "    train_df,                        # dataframe of images and labels\n",
    "    flow_training_dir,               # directory to flow from\n",
    "    x_col='filename',                # specifying name of image identifier in dataframe\n",
    "    y_col='category',                # specifying name of label identifier in dataframe\n",
    "    target_size=img_dim,             # image dimensions without channels\n",
    "    batch_size=batch_size            # number of images to process at a time\n",
    ")"
   ]
  },
  {
   "cell_type": "code",
   "execution_count": 64,
   "metadata": {},
   "outputs": [],
   "source": [
    "image_gen = ImageDataGenerator(\n",
    "    width_shift_range=0.15,\n",
    "    height_shift_range=0.15,\n",
    "    rotation_range=20,\n",
    "    shear_range=0.01,\n",
    "    zoom_range=[.9, 1.2],\n",
    "    horizontal_flip=True,\n",
    "    vertical_flip=False,\n",
    "    fill_mode='reflect'\n",
    ")"
   ]
  },
  {
   "cell_type": "code",
   "execution_count": 65,
   "metadata": {},
   "outputs": [
    {
     "name": "stdout",
     "output_type": "stream",
     "text": [
      "Found 3235 images belonging to 3 classes.\n"
     ]
    }
   ],
   "source": [
    "validation_datagen = ImageDataGenerator(rescale=1./255)  # target values between 0 and 1\n",
    "\n",
    "# create image flow for validation\n",
    "validation_generator = validation_datagen.flow_from_dataframe(\n",
    "    validate_df,                     # datagframe of images and labels\n",
    "    flow_training_dir,               # directory to flow from\n",
    "    x_col='filename',                # specifying name of image identifier in dataframe\n",
    "    y_col='category',                # specifying name of label identifier in dataframe\n",
    "    target_size=img_dim,             # image dimensions without channels\n",
    "    batch_size=batch_size            # number of images to process at a time\n",
    ")"
   ]
  },
  {
   "cell_type": "code",
   "execution_count": 72,
   "metadata": {},
   "outputs": [
    {
     "name": "stdout",
     "output_type": "stream",
     "text": [
      "Epoch 1/50\n",
      "100/100 [==============================] - 9s 91ms/step - loss: 0.4707 - acc: 0.8080 - val_loss: 0.5276 - val_acc: 0.7988\n",
      "Epoch 2/50\n",
      "100/100 [==============================] - 7s 74ms/step - loss: 0.4935 - acc: 0.8040 - val_loss: 0.4890 - val_acc: 0.8090\n",
      "Epoch 3/50\n",
      "100/100 [==============================] - 7s 74ms/step - loss: 0.5064 - acc: 0.8053 - val_loss: 0.5195 - val_acc: 0.7966\n",
      "Epoch 4/50\n",
      "100/100 [==============================] - 7s 75ms/step - loss: 0.5198 - acc: 0.7980 - val_loss: 0.5288 - val_acc: 0.7826\n",
      "Epoch 5/50\n",
      "100/100 [==============================] - 7s 74ms/step - loss: 0.4936 - acc: 0.8073 - val_loss: 0.5665 - val_acc: 0.7804\n",
      "Epoch 6/50\n",
      "100/100 [==============================] - 7s 74ms/step - loss: 0.5038 - acc: 0.8007 - val_loss: 0.5324 - val_acc: 0.7845\n",
      "Epoch 7/50\n",
      "100/100 [==============================] - 7s 74ms/step - loss: 0.4568 - acc: 0.8180 - val_loss: 0.4995 - val_acc: 0.8062\n",
      "Epoch 8/50\n",
      "100/100 [==============================] - 7s 74ms/step - loss: 0.4797 - acc: 0.8093 - val_loss: 0.4723 - val_acc: 0.8056\n",
      "Epoch 9/50\n",
      "100/100 [==============================] - 7s 74ms/step - loss: 0.5155 - acc: 0.7977 - val_loss: 0.5012 - val_acc: 0.7935\n",
      "Epoch 10/50\n",
      "100/100 [==============================] - 7s 74ms/step - loss: 0.4726 - acc: 0.8140 - val_loss: 0.4769 - val_acc: 0.8084\n",
      "Epoch 11/50\n",
      "100/100 [==============================] - 7s 74ms/step - loss: 0.4858 - acc: 0.8093 - val_loss: 0.4792 - val_acc: 0.8090\n",
      "Epoch 12/50\n",
      "100/100 [==============================] - 7s 74ms/step - loss: 0.4658 - acc: 0.8273 - val_loss: 0.5086 - val_acc: 0.8065\n",
      "Epoch 13/50\n",
      "100/100 [==============================] - 7s 74ms/step - loss: 0.4628 - acc: 0.8153 - val_loss: 0.5074 - val_acc: 0.8112\n",
      "Epoch 14/50\n",
      "100/100 [==============================] - 7s 74ms/step - loss: 0.4660 - acc: 0.8087 - val_loss: 0.4761 - val_acc: 0.8106\n",
      "Epoch 15/50\n",
      "100/100 [==============================] - 7s 74ms/step - loss: 0.5066 - acc: 0.7993 - val_loss: 0.4969 - val_acc: 0.7997\n",
      "Epoch 16/50\n",
      "100/100 [==============================] - 7s 74ms/step - loss: 0.4905 - acc: 0.8033 - val_loss: 0.5313 - val_acc: 0.8012\n",
      "Epoch 17/50\n",
      "100/100 [==============================] - 7s 74ms/step - loss: 0.5013 - acc: 0.8007 - val_loss: 0.4862 - val_acc: 0.8106\n",
      "Epoch 18/50\n",
      "100/100 [==============================] - 7s 74ms/step - loss: 0.4711 - acc: 0.8103 - val_loss: 0.4948 - val_acc: 0.8189\n",
      "Epoch 19/50\n",
      "100/100 [==============================] - 7s 74ms/step - loss: 0.4741 - acc: 0.8120 - val_loss: 0.4720 - val_acc: 0.8158\n",
      "Epoch 20/50\n",
      "100/100 [==============================] - 7s 74ms/step - loss: 0.4401 - acc: 0.8240 - val_loss: 0.4750 - val_acc: 0.8158\n",
      "Epoch 21/50\n",
      "100/100 [==============================] - 7s 74ms/step - loss: 0.5003 - acc: 0.8027 - val_loss: 0.5010 - val_acc: 0.8071\n",
      "Epoch 22/50\n",
      "100/100 [==============================] - 7s 74ms/step - loss: 0.4566 - acc: 0.8127 - val_loss: 0.4875 - val_acc: 0.8050\n",
      "Epoch 23/50\n",
      "100/100 [==============================] - 7s 74ms/step - loss: 0.4751 - acc: 0.8180 - val_loss: 0.4676 - val_acc: 0.8202\n",
      "Epoch 24/50\n",
      "100/100 [==============================] - 7s 74ms/step - loss: 0.5108 - acc: 0.8040 - val_loss: 0.5195 - val_acc: 0.7997\n",
      "Epoch 25/50\n",
      "100/100 [==============================] - 7s 74ms/step - loss: 0.4718 - acc: 0.8093 - val_loss: 0.5379 - val_acc: 0.7752\n",
      "Epoch 26/50\n",
      "100/100 [==============================] - 7s 74ms/step - loss: 0.4702 - acc: 0.8180 - val_loss: 0.4981 - val_acc: 0.8019\n",
      "Epoch 27/50\n",
      "100/100 [==============================] - 7s 74ms/step - loss: 0.4690 - acc: 0.8043 - val_loss: 0.4653 - val_acc: 0.8155\n",
      "Epoch 28/50\n",
      "100/100 [==============================] - 7s 74ms/step - loss: 0.5140 - acc: 0.7893 - val_loss: 0.5034 - val_acc: 0.7960\n",
      "Epoch 29/50\n",
      "100/100 [==============================] - 7s 74ms/step - loss: 0.4670 - acc: 0.8113 - val_loss: 0.4772 - val_acc: 0.8106\n",
      "Epoch 30/50\n",
      "100/100 [==============================] - 7s 74ms/step - loss: 0.4712 - acc: 0.8127 - val_loss: 0.4814 - val_acc: 0.8143\n",
      "Epoch 31/50\n",
      "100/100 [==============================] - 7s 74ms/step - loss: 0.4466 - acc: 0.8287 - val_loss: 0.4810 - val_acc: 0.8174\n",
      "Epoch 32/50\n",
      "100/100 [==============================] - 7s 74ms/step - loss: 0.4526 - acc: 0.8200 - val_loss: 0.6304 - val_acc: 0.7568\n",
      "Epoch 33/50\n",
      "100/100 [==============================] - 7s 74ms/step - loss: 0.4977 - acc: 0.8047 - val_loss: 0.4905 - val_acc: 0.8084\n",
      "Epoch 34/50\n",
      "100/100 [==============================] - 7s 74ms/step - loss: 0.5095 - acc: 0.8087 - val_loss: 0.4681 - val_acc: 0.8124\n",
      "Epoch 35/50\n",
      "100/100 [==============================] - 8s 84ms/step - loss: 0.4545 - acc: 0.8187 - val_loss: 0.5234 - val_acc: 0.7929\n",
      "Epoch 36/50\n",
      "100/100 [==============================] - 8s 76ms/step - loss: 0.4855 - acc: 0.8020 - val_loss: 0.4959 - val_acc: 0.8047\n",
      "Epoch 37/50\n",
      "100/100 [==============================] - 7s 74ms/step - loss: 0.4445 - acc: 0.8153 - val_loss: 0.4842 - val_acc: 0.8202\n",
      "Epoch 38/50\n",
      "100/100 [==============================] - 7s 74ms/step - loss: 0.4961 - acc: 0.8000 - val_loss: 0.5178 - val_acc: 0.7904\n",
      "Epoch 39/50\n",
      "100/100 [==============================] - 7s 74ms/step - loss: 0.4793 - acc: 0.8133 - val_loss: 0.4755 - val_acc: 0.8121\n",
      "Epoch 40/50\n",
      "100/100 [==============================] - 8s 81ms/step - loss: 0.4663 - acc: 0.8127 - val_loss: 0.4760 - val_acc: 0.8053\n",
      "Epoch 41/50\n",
      "100/100 [==============================] - 7s 74ms/step - loss: 0.4539 - acc: 0.8280 - val_loss: 0.5353 - val_acc: 0.7888\n",
      "Epoch 42/50\n",
      "100/100 [==============================] - 7s 74ms/step - loss: 0.4515 - acc: 0.8287 - val_loss: 0.4937 - val_acc: 0.8102\n",
      "Epoch 43/50\n",
      "100/100 [==============================] - 7s 74ms/step - loss: 0.4873 - acc: 0.8167 - val_loss: 0.4891 - val_acc: 0.8037\n",
      "Epoch 44/50\n",
      "100/100 [==============================] - 7s 74ms/step - loss: 0.4504 - acc: 0.8200 - val_loss: 0.4593 - val_acc: 0.8245\n",
      "Epoch 45/50\n",
      "100/100 [==============================] - 7s 74ms/step - loss: 0.4653 - acc: 0.8253 - val_loss: 0.4770 - val_acc: 0.8177\n",
      "Epoch 46/50\n",
      "100/100 [==============================] - 7s 73ms/step - loss: 0.4698 - acc: 0.8120 - val_loss: 0.5135 - val_acc: 0.7925\n",
      "Epoch 47/50\n",
      "100/100 [==============================] - 7s 74ms/step - loss: 0.4765 - acc: 0.8107 - val_loss: 0.5078 - val_acc: 0.8068\n",
      "Epoch 48/50\n",
      "100/100 [==============================] - 7s 74ms/step - loss: 0.4575 - acc: 0.8260 - val_loss: 0.4880 - val_acc: 0.8000\n",
      "Epoch 49/50\n",
      "100/100 [==============================] - 7s 74ms/step - loss: 0.4539 - acc: 0.8213 - val_loss: 0.4982 - val_acc: 0.8050\n",
      "Epoch 50/50\n",
      "100/100 [==============================] - 7s 74ms/step - loss: 0.4522 - acc: 0.8120 - val_loss: 0.4751 - val_acc: 0.8289\n"
     ]
    }
   ],
   "source": [
    "sgd = SGD(lr=1e-2, decay=1e-6, momentum=0.9, nesterov=True)\n",
    "model.compile(loss='categorical_crossentropy', optimizer=sgd, metrics=['accuracy'])\n",
    "\n",
    "nb_epochs = 50\n",
    "history = model.fit_generator(                     # start fitting the data!\n",
    "    train_generator,                               # training image data generator\n",
    "    epochs=nb_epochs,                              # number of iterations\n",
    "    validation_data=validation_generator,          # validation image data generator\n",
    "    validation_steps=total_validate//batch_size,   # number of validation steps\n",
    "    steps_per_epoch=100 #total_train//batch_size        # number of steps per epoch\n",
    ")"
   ]
  },
  {
   "cell_type": "code",
   "execution_count": 73,
   "metadata": {},
   "outputs": [
    {
     "name": "stdout",
     "output_type": "stream",
     "text": [
      "Test: accuracy = 0.820186  ;  loss = 0.475731 \n"
     ]
    }
   ],
   "source": [
    "loss, accuracy = model.evaluate_generator(validation_generator, total_validate//batch_size, workers=12)\n",
    "print(\"Test: accuracy = %f  ;  loss = %f \" % (accuracy, loss))"
   ]
  },
  {
   "cell_type": "code",
   "execution_count": 74,
   "metadata": {},
   "outputs": [
    {
     "data": {
      "image/png": "[encoded data removed]",
      "text/plain": [
       "<Figure size 1080x360 with 2 Axes>"
      ]
     },
     "metadata": {
      "needs_background": "light"
     },
     "output_type": "display_data"
    }
   ],
   "source": [
    "def plot_model_history(model_history, acc='acc', val_acc='val_acc'):\n",
    "    fig, axs = plt.subplots(1,2,figsize=(15,5))\n",
    "    axs[0].plot(range(1,len(model_history.history[acc])+1),model_history.history[acc])\n",
    "    axs[0].plot(range(1,len(model_history.history[val_acc])+1),model_history.history[val_acc])\n",
    "    axs[0].set_title('Model Accuracy')\n",
    "    axs[0].set_ylabel('Accuracy')\n",
    "    axs[0].set_xlabel('Epoch')\n",
    "    axs[0].set_xticks(np.arange(1,len(model_history.history[acc])+1),len(model_history.history[acc])/10)\n",
    "    axs[0].legend(['train', 'val'], loc='best')\n",
    "    axs[1].plot(range(1,len(model_history.history['loss'])+1),model_history.history['loss'])\n",
    "    axs[1].plot(range(1,len(model_history.history['val_loss'])+1),model_history.history['val_loss'])\n",
    "    axs[1].set_title('Model Loss')\n",
    "    axs[1].set_ylabel('Loss')\n",
    "    axs[1].set_xlabel('Epoch')\n",
    "    axs[1].set_xticks(np.arange(1,len(model_history.history['loss'])+1),len(model_history.history['loss'])/10)\n",
    "    axs[1].legend(['train', 'val'], loc='best')\n",
    "    plt.show()\n",
    "    \n",
    "plot_model_history(history)"
   ]
  },
  {
   "cell_type": "code",
   "execution_count": null,
   "metadata": {},
   "outputs": [],
   "source": [
    "model.save_weights('lr.01_decay1e-6_mom.9_batch32_epocs20_score.871535.h5')"
   ]
  }
 ],
 "metadata": {
  "kernelspec": {
   "display_name": "Python 3",
   "language": "python",
   "name": "python3"
  },
  "language_info": {
   "codemirror_mode": {
    "name": "ipython",
    "version": 3
   },
   "file_extension": ".py",
   "mimetype": "text/x-python",
   "name": "python",
   "nbconvert_exporter": "python",
   "pygments_lexer": "ipython3",
   "version": "3.5.3"
  }
 },
 "nbformat": 4,
 "nbformat_minor": 2
}
